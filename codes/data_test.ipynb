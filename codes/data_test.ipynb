{
 "cells": [
  {
   "cell_type": "code",
   "execution_count": 1,
   "metadata": {
    "collapsed": true
   },
   "outputs": [],
   "source": [
    "import pandas as pd\n",
    "import numpy as np\n",
    "import matplotlib.pyplot as plt"
   ]
  },
  {
   "cell_type": "code",
   "execution_count": 2,
   "metadata": {},
   "outputs": [
    {
     "data": {
      "text/html": [
       "<div>\n",
       "<style>\n",
       "    .dataframe thead tr:only-child th {\n",
       "        text-align: right;\n",
       "    }\n",
       "\n",
       "    .dataframe thead th {\n",
       "        text-align: left;\n",
       "    }\n",
       "\n",
       "    .dataframe tbody tr th {\n",
       "        vertical-align: top;\n",
       "    }\n",
       "</style>\n",
       "<table border=\"1\" class=\"dataframe\">\n",
       "  <thead>\n",
       "    <tr style=\"text-align: right;\">\n",
       "      <th></th>\n",
       "      <th>log_id</th>\n",
       "      <th>timelong</th>\n",
       "      <th>device</th>\n",
       "      <th>log_from</th>\n",
       "      <th>ip</th>\n",
       "      <th>city</th>\n",
       "      <th>result</th>\n",
       "      <th>timestamp</th>\n",
       "      <th>type</th>\n",
       "      <th>id</th>\n",
       "      <th>is_scan</th>\n",
       "      <th>is_sec</th>\n",
       "      <th>time</th>\n",
       "    </tr>\n",
       "  </thead>\n",
       "  <tbody>\n",
       "    <tr>\n",
       "      <th>0</th>\n",
       "      <td>1.955082e+16</td>\n",
       "      <td>7000.0</td>\n",
       "      <td>419819</td>\n",
       "      <td>2</td>\n",
       "      <td>1536093</td>\n",
       "      <td>238</td>\n",
       "      <td>1</td>\n",
       "      <td>1.436157e+09</td>\n",
       "      <td>3</td>\n",
       "      <td>5887</td>\n",
       "      <td>False</td>\n",
       "      <td>False</td>\n",
       "      <td>2015-07-06 12:23:45</td>\n",
       "    </tr>\n",
       "    <tr>\n",
       "      <th>1</th>\n",
       "      <td>9.716474e+15</td>\n",
       "      <td>16363.0</td>\n",
       "      <td>298355</td>\n",
       "      <td>1</td>\n",
       "      <td>715488</td>\n",
       "      <td>238</td>\n",
       "      <td>1</td>\n",
       "      <td>1.437054e+09</td>\n",
       "      <td>3</td>\n",
       "      <td>10909</td>\n",
       "      <td>False</td>\n",
       "      <td>False</td>\n",
       "      <td>2015-07-16 21:44:41</td>\n",
       "    </tr>\n",
       "    <tr>\n",
       "      <th>2</th>\n",
       "      <td>7.371385e+15</td>\n",
       "      <td>22379.0</td>\n",
       "      <td>298355</td>\n",
       "      <td>1</td>\n",
       "      <td>715488</td>\n",
       "      <td>238</td>\n",
       "      <td>1</td>\n",
       "      <td>1.437015e+09</td>\n",
       "      <td>3</td>\n",
       "      <td>10909</td>\n",
       "      <td>False</td>\n",
       "      <td>False</td>\n",
       "      <td>2015-07-16 10:46:41</td>\n",
       "    </tr>\n",
       "    <tr>\n",
       "      <th>3</th>\n",
       "      <td>9.642499e+13</td>\n",
       "      <td>27733.0</td>\n",
       "      <td>298355</td>\n",
       "      <td>1</td>\n",
       "      <td>646560</td>\n",
       "      <td>238</td>\n",
       "      <td>1</td>\n",
       "      <td>1.436795e+09</td>\n",
       "      <td>3</td>\n",
       "      <td>10909</td>\n",
       "      <td>False</td>\n",
       "      <td>False</td>\n",
       "      <td>2015-07-13 21:38:23</td>\n",
       "    </tr>\n",
       "    <tr>\n",
       "      <th>4</th>\n",
       "      <td>3.714001e+16</td>\n",
       "      <td>6242.0</td>\n",
       "      <td>747880</td>\n",
       "      <td>1</td>\n",
       "      <td>238942</td>\n",
       "      <td>238</td>\n",
       "      <td>1</td>\n",
       "      <td>1.437444e+09</td>\n",
       "      <td>1</td>\n",
       "      <td>151823</td>\n",
       "      <td>False</td>\n",
       "      <td>False</td>\n",
       "      <td>2015-07-21 10:02:49</td>\n",
       "    </tr>\n",
       "  </tbody>\n",
       "</table>\n",
       "</div>"
      ],
      "text/plain": [
       "         log_id  timelong  device  log_from       ip  city  result  \\\n",
       "0  1.955082e+16    7000.0  419819         2  1536093   238       1   \n",
       "1  9.716474e+15   16363.0  298355         1   715488   238       1   \n",
       "2  7.371385e+15   22379.0  298355         1   715488   238       1   \n",
       "3  9.642499e+13   27733.0  298355         1   646560   238       1   \n",
       "4  3.714001e+16    6242.0  747880         1   238942   238       1   \n",
       "\n",
       "      timestamp  type      id  is_scan  is_sec                 time  \n",
       "0  1.436157e+09     3    5887    False   False  2015-07-06 12:23:45  \n",
       "1  1.437054e+09     3   10909    False   False  2015-07-16 21:44:41  \n",
       "2  1.437015e+09     3   10909    False   False  2015-07-16 10:46:41  \n",
       "3  1.436795e+09     3   10909    False   False  2015-07-13 21:38:23  \n",
       "4  1.437444e+09     1  151823    False   False  2015-07-21 10:02:49  "
      ]
     },
     "execution_count": 2,
     "metadata": {},
     "output_type": "execute_result"
    }
   ],
   "source": [
    "t_login_test = pd.read_csv('../datas/t_login_test.csv')\n",
    "t_login_test.head()"
   ]
  },
  {
   "cell_type": "code",
   "execution_count": 2,
   "metadata": {},
   "outputs": [
    {
     "data": {
      "text/html": [
       "<div>\n",
       "<style>\n",
       "    .dataframe thead tr:only-child th {\n",
       "        text-align: right;\n",
       "    }\n",
       "\n",
       "    .dataframe thead th {\n",
       "        text-align: left;\n",
       "    }\n",
       "\n",
       "    .dataframe tbody tr th {\n",
       "        vertical-align: top;\n",
       "    }\n",
       "</style>\n",
       "<table border=\"1\" class=\"dataframe\">\n",
       "  <thead>\n",
       "    <tr style=\"text-align: right;\">\n",
       "      <th></th>\n",
       "      <th>rowkey</th>\n",
       "      <th>time</th>\n",
       "      <th>id</th>\n",
       "    </tr>\n",
       "  </thead>\n",
       "  <tbody>\n",
       "    <tr>\n",
       "      <th>0</th>\n",
       "      <td>24</td>\n",
       "      <td>2015-07-01 00:04:41.0</td>\n",
       "      <td>98066</td>\n",
       "    </tr>\n",
       "    <tr>\n",
       "      <th>1</th>\n",
       "      <td>37</td>\n",
       "      <td>2015-07-01 00:12:45.0</td>\n",
       "      <td>151688</td>\n",
       "    </tr>\n",
       "    <tr>\n",
       "      <th>2</th>\n",
       "      <td>45</td>\n",
       "      <td>2015-07-01 00:15:12.0</td>\n",
       "      <td>86468</td>\n",
       "    </tr>\n",
       "    <tr>\n",
       "      <th>3</th>\n",
       "      <td>46</td>\n",
       "      <td>2015-07-01 00:15:24.0</td>\n",
       "      <td>86468</td>\n",
       "    </tr>\n",
       "    <tr>\n",
       "      <th>4</th>\n",
       "      <td>48</td>\n",
       "      <td>2015-07-01 00:15:58.0</td>\n",
       "      <td>82720</td>\n",
       "    </tr>\n",
       "  </tbody>\n",
       "</table>\n",
       "</div>"
      ],
      "text/plain": [
       "   rowkey                   time      id\n",
       "0      24  2015-07-01 00:04:41.0   98066\n",
       "1      37  2015-07-01 00:12:45.0  151688\n",
       "2      45  2015-07-01 00:15:12.0   86468\n",
       "3      46  2015-07-01 00:15:24.0   86468\n",
       "4      48  2015-07-01 00:15:58.0   82720"
      ]
     },
     "execution_count": 2,
     "metadata": {},
     "output_type": "execute_result"
    }
   ],
   "source": [
    "t_trade_test = pd.read_csv('../datas/t_trade_test.csv')\n",
    "t_trade_test.head()"
   ]
  },
  {
   "cell_type": "code",
   "execution_count": 3,
   "metadata": {
    "collapsed": true
   },
   "outputs": [],
   "source": [
    "d = t_trade_test.head()"
   ]
  },
  {
   "cell_type": "code",
   "execution_count": 9,
   "metadata": {},
   "outputs": [
    {
     "data": {
      "text/plain": [
       "[[24, '2015-07-01 00:04:41.0', 98066],\n",
       " [37, '2015-07-01 00:12:45.0', 151688],\n",
       " [45, '2015-07-01 00:15:12.0', 86468],\n",
       " [46, '2015-07-01 00:15:24.0', 86468],\n",
       " [48, '2015-07-01 00:15:58.0', 82720]]"
      ]
     },
     "execution_count": 9,
     "metadata": {},
     "output_type": "execute_result"
    }
   ],
   "source": [
    "np.array(d).tolist()"
   ]
  },
  {
   "cell_type": "code",
   "execution_count": null,
   "metadata": {
    "collapsed": true
   },
   "outputs": [],
   "source": []
  },
  {
   "cell_type": "code",
   "execution_count": null,
   "metadata": {
    "collapsed": true
   },
   "outputs": [],
   "source": []
  },
  {
   "cell_type": "code",
   "execution_count": null,
   "metadata": {
    "collapsed": true
   },
   "outputs": [],
   "source": []
  },
  {
   "cell_type": "code",
   "execution_count": null,
   "metadata": {
    "collapsed": true
   },
   "outputs": [],
   "source": []
  },
  {
   "cell_type": "code",
   "execution_count": null,
   "metadata": {
    "collapsed": true
   },
   "outputs": [],
   "source": []
  },
  {
   "cell_type": "code",
   "execution_count": null,
   "metadata": {
    "collapsed": true
   },
   "outputs": [],
   "source": []
  },
  {
   "cell_type": "code",
   "execution_count": null,
   "metadata": {
    "collapsed": true
   },
   "outputs": [],
   "source": []
  },
  {
   "cell_type": "code",
   "execution_count": null,
   "metadata": {
    "collapsed": true
   },
   "outputs": [],
   "source": []
  },
  {
   "cell_type": "code",
   "execution_count": null,
   "metadata": {
    "collapsed": true
   },
   "outputs": [],
   "source": []
  }
 ],
 "metadata": {
  "kernelspec": {
   "display_name": "Python 2",
   "language": "python",
   "name": "python2"
  },
  "language_info": {
   "codemirror_mode": {
    "name": "ipython",
    "version": 2
   },
   "file_extension": ".py",
   "mimetype": "text/x-python",
   "name": "python",
   "nbconvert_exporter": "python",
   "pygments_lexer": "ipython2",
   "version": "2.7.13"
  }
 },
 "nbformat": 4,
 "nbformat_minor": 2
}

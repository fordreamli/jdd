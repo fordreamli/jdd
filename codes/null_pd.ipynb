{
 "cells": [
  {
   "cell_type": "code",
   "execution_count": 1,
   "metadata": {
    "collapsed": true
   },
   "outputs": [],
   "source": [
    "# coding:utf-8\n",
    "\n",
    "import pandas as pd\n",
    "import numpy as np\n",
    "import os,sys\n",
    "from multiprocessing import Pool\n",
    "import matplotlib.pyplot as plt"
   ]
  },
  {
   "cell_type": "code",
   "execution_count": 24,
   "metadata": {},
   "outputs": [
    {
     "data": {
      "text/html": [
       "<div>\n",
       "<style>\n",
       "    .dataframe thead tr:only-child th {\n",
       "        text-align: right;\n",
       "    }\n",
       "\n",
       "    .dataframe thead th {\n",
       "        text-align: left;\n",
       "    }\n",
       "\n",
       "    .dataframe tbody tr th {\n",
       "        vertical-align: top;\n",
       "    }\n",
       "</style>\n",
       "<table border=\"1\" class=\"dataframe\">\n",
       "  <thead>\n",
       "    <tr style=\"text-align: right;\">\n",
       "      <th></th>\n",
       "      <th>hour</th>\n",
       "      <th>hour_v</th>\n",
       "      <th>hour_v_cnt</th>\n",
       "      <th>hour_v_cnt_rate</th>\n",
       "      <th>id</th>\n",
       "      <th>is_risk</th>\n",
       "      <th>rowkey</th>\n",
       "      <th>time</th>\n",
       "      <th>trade_cnt</th>\n",
       "      <th>trade_stamp</th>\n",
       "      <th>...</th>\n",
       "      <th>iptype_time_max2</th>\n",
       "      <th>iptype_time_mean0</th>\n",
       "      <th>iptype_time_mean1</th>\n",
       "      <th>iptype_time_mean2</th>\n",
       "      <th>iptype_time_min0</th>\n",
       "      <th>iptype_time_min1</th>\n",
       "      <th>iptype_time_min2</th>\n",
       "      <th>timestamp_online0</th>\n",
       "      <th>timestamp_online1</th>\n",
       "      <th>timestamp_online2</th>\n",
       "    </tr>\n",
       "  </thead>\n",
       "  <tbody>\n",
       "    <tr>\n",
       "      <th>0</th>\n",
       "      <td>0</td>\n",
       "      <td>0</td>\n",
       "      <td>0</td>\n",
       "      <td>0.0</td>\n",
       "      <td>148255</td>\n",
       "      <td>0</td>\n",
       "      <td>470740</td>\n",
       "      <td>2015-04-01 00:00:44.0</td>\n",
       "      <td>3</td>\n",
       "      <td>1.427818e+09</td>\n",
       "      <td>...</td>\n",
       "      <td>NaN</td>\n",
       "      <td>5883.0</td>\n",
       "      <td>8000.000000</td>\n",
       "      <td>NaN</td>\n",
       "      <td>5883.0</td>\n",
       "      <td>8000.0</td>\n",
       "      <td>NaN</td>\n",
       "      <td>1.427439e+09</td>\n",
       "      <td>1.427441e+09</td>\n",
       "      <td>1.427439e+09</td>\n",
       "    </tr>\n",
       "    <tr>\n",
       "      <th>1</th>\n",
       "      <td>0</td>\n",
       "      <td>0</td>\n",
       "      <td>1</td>\n",
       "      <td>0.2</td>\n",
       "      <td>148255</td>\n",
       "      <td>0</td>\n",
       "      <td>470746</td>\n",
       "      <td>2015-04-01 00:01:16.0</td>\n",
       "      <td>4</td>\n",
       "      <td>1.427818e+09</td>\n",
       "      <td>...</td>\n",
       "      <td>NaN</td>\n",
       "      <td>5883.0</td>\n",
       "      <td>8000.000000</td>\n",
       "      <td>NaN</td>\n",
       "      <td>5883.0</td>\n",
       "      <td>8000.0</td>\n",
       "      <td>NaN</td>\n",
       "      <td>1.427439e+09</td>\n",
       "      <td>1.427441e+09</td>\n",
       "      <td>1.427439e+09</td>\n",
       "    </tr>\n",
       "    <tr>\n",
       "      <th>2</th>\n",
       "      <td>0</td>\n",
       "      <td>0</td>\n",
       "      <td>0</td>\n",
       "      <td>0.0</td>\n",
       "      <td>17271</td>\n",
       "      <td>0</td>\n",
       "      <td>470754</td>\n",
       "      <td>2015-04-01 00:02:34.0</td>\n",
       "      <td>0</td>\n",
       "      <td>1.427818e+09</td>\n",
       "      <td>...</td>\n",
       "      <td>9000.0</td>\n",
       "      <td>7500.0</td>\n",
       "      <td>7333.333333</td>\n",
       "      <td>7000.0</td>\n",
       "      <td>5000.0</td>\n",
       "      <td>5000.0</td>\n",
       "      <td>5000.0</td>\n",
       "      <td>1.427818e+09</td>\n",
       "      <td>1.427819e+09</td>\n",
       "      <td>1.427809e+09</td>\n",
       "    </tr>\n",
       "    <tr>\n",
       "      <th>3</th>\n",
       "      <td>0</td>\n",
       "      <td>0</td>\n",
       "      <td>0</td>\n",
       "      <td>0.0</td>\n",
       "      <td>125402</td>\n",
       "      <td>0</td>\n",
       "      <td>470757</td>\n",
       "      <td>2015-04-01 00:03:08.0</td>\n",
       "      <td>0</td>\n",
       "      <td>1.427818e+09</td>\n",
       "      <td>...</td>\n",
       "      <td>NaN</td>\n",
       "      <td>NaN</td>\n",
       "      <td>NaN</td>\n",
       "      <td>NaN</td>\n",
       "      <td>NaN</td>\n",
       "      <td>NaN</td>\n",
       "      <td>NaN</td>\n",
       "      <td>1.427785e+09</td>\n",
       "      <td>1.427310e+09</td>\n",
       "      <td>1.427055e+09</td>\n",
       "    </tr>\n",
       "    <tr>\n",
       "      <th>4</th>\n",
       "      <td>0</td>\n",
       "      <td>0</td>\n",
       "      <td>1</td>\n",
       "      <td>0.2</td>\n",
       "      <td>16888</td>\n",
       "      <td>0</td>\n",
       "      <td>470759</td>\n",
       "      <td>2015-04-01 00:03:38.0</td>\n",
       "      <td>4</td>\n",
       "      <td>1.427818e+09</td>\n",
       "      <td>...</td>\n",
       "      <td>NaN</td>\n",
       "      <td>NaN</td>\n",
       "      <td>NaN</td>\n",
       "      <td>NaN</td>\n",
       "      <td>NaN</td>\n",
       "      <td>NaN</td>\n",
       "      <td>NaN</td>\n",
       "      <td>NaN</td>\n",
       "      <td>NaN</td>\n",
       "      <td>NaN</td>\n",
       "    </tr>\n",
       "  </tbody>\n",
       "</table>\n",
       "<p>5 rows × 625 columns</p>\n",
       "</div>"
      ],
      "text/plain": [
       "   hour  hour_v  hour_v_cnt  hour_v_cnt_rate      id  is_risk  rowkey  \\\n",
       "0     0       0           0              0.0  148255        0  470740   \n",
       "1     0       0           1              0.2  148255        0  470746   \n",
       "2     0       0           0              0.0   17271        0  470754   \n",
       "3     0       0           0              0.0  125402        0  470757   \n",
       "4     0       0           1              0.2   16888        0  470759   \n",
       "\n",
       "                    time  trade_cnt   trade_stamp        ...          \\\n",
       "0  2015-04-01 00:00:44.0          3  1.427818e+09        ...           \n",
       "1  2015-04-01 00:01:16.0          4  1.427818e+09        ...           \n",
       "2  2015-04-01 00:02:34.0          0  1.427818e+09        ...           \n",
       "3  2015-04-01 00:03:08.0          0  1.427818e+09        ...           \n",
       "4  2015-04-01 00:03:38.0          4  1.427818e+09        ...           \n",
       "\n",
       "   iptype_time_max2  iptype_time_mean0  iptype_time_mean1  iptype_time_mean2  \\\n",
       "0               NaN             5883.0        8000.000000                NaN   \n",
       "1               NaN             5883.0        8000.000000                NaN   \n",
       "2            9000.0             7500.0        7333.333333             7000.0   \n",
       "3               NaN                NaN                NaN                NaN   \n",
       "4               NaN                NaN                NaN                NaN   \n",
       "\n",
       "   iptype_time_min0  iptype_time_min1  iptype_time_min2  timestamp_online0  \\\n",
       "0            5883.0            8000.0               NaN       1.427439e+09   \n",
       "1            5883.0            8000.0               NaN       1.427439e+09   \n",
       "2            5000.0            5000.0            5000.0       1.427818e+09   \n",
       "3               NaN               NaN               NaN       1.427785e+09   \n",
       "4               NaN               NaN               NaN                NaN   \n",
       "\n",
       "   timestamp_online1  timestamp_online2  \n",
       "0       1.427441e+09       1.427439e+09  \n",
       "1       1.427441e+09       1.427439e+09  \n",
       "2       1.427819e+09       1.427809e+09  \n",
       "3       1.427310e+09       1.427055e+09  \n",
       "4                NaN                NaN  \n",
       "\n",
       "[5 rows x 625 columns]"
      ]
     },
     "execution_count": 24,
     "metadata": {},
     "output_type": "execute_result"
    }
   ],
   "source": [
    "al = pd.read_csv('../datas/all.csv')\n",
    "al.head()"
   ]
  },
  {
   "cell_type": "code",
   "execution_count": 26,
   "metadata": {},
   "outputs": [
    {
     "data": {
      "text/plain": [
       "(82228, 625)"
      ]
     },
     "execution_count": 26,
     "metadata": {},
     "output_type": "execute_result"
    }
   ],
   "source": [
    "al.shape"
   ]
  },
  {
   "cell_type": "code",
   "execution_count": 27,
   "metadata": {},
   "outputs": [
    {
     "data": {
      "text/plain": [
       "(36231, 625)"
      ]
     },
     "execution_count": 27,
     "metadata": {},
     "output_type": "execute_result"
    }
   ],
   "source": [
    "al[al['time']<'2015-06-01 00:00:00.0'].shape"
   ]
  },
  {
   "cell_type": "code",
   "execution_count": 28,
   "metadata": {},
   "outputs": [
    {
     "data": {
      "text/plain": [
       "(28122, 625)"
      ]
     },
     "execution_count": 28,
     "metadata": {},
     "output_type": "execute_result"
    }
   ],
   "source": [
    "al[(al['time']<'2015-07-01 00:00:00.0')&(al['time']>='2015-06-01 00:00:00.0')].shape"
   ]
  },
  {
   "cell_type": "code",
   "execution_count": 29,
   "metadata": {},
   "outputs": [
    {
     "data": {
      "text/plain": [
       "(17875, 625)"
      ]
     },
     "execution_count": 29,
     "metadata": {},
     "output_type": "execute_result"
    }
   ],
   "source": [
    "al[al['time']>='2015-07-01 00:00:00.0'].shape"
   ]
  },
  {
   "cell_type": "code",
   "execution_count": null,
   "metadata": {
    "collapsed": true
   },
   "outputs": [],
   "source": []
  },
  {
   "cell_type": "code",
   "execution_count": 25,
   "metadata": {},
   "outputs": [
    {
     "data": {
      "text/html": [
       "<div>\n",
       "<style>\n",
       "    .dataframe thead tr:only-child th {\n",
       "        text-align: right;\n",
       "    }\n",
       "\n",
       "    .dataframe thead th {\n",
       "        text-align: left;\n",
       "    }\n",
       "\n",
       "    .dataframe tbody tr th {\n",
       "        vertical-align: top;\n",
       "    }\n",
       "</style>\n",
       "<table border=\"1\" class=\"dataframe\">\n",
       "  <thead>\n",
       "    <tr style=\"text-align: right;\">\n",
       "      <th></th>\n",
       "      <th>hour</th>\n",
       "      <th>hour_v</th>\n",
       "      <th>hour_v_cnt</th>\n",
       "      <th>hour_v_cnt_rate</th>\n",
       "      <th>id</th>\n",
       "      <th>is_risk</th>\n",
       "      <th>rowkey</th>\n",
       "      <th>time</th>\n",
       "      <th>trade_cnt</th>\n",
       "      <th>trade_stamp</th>\n",
       "      <th>...</th>\n",
       "      <th>iptype_time_max2</th>\n",
       "      <th>iptype_time_mean0</th>\n",
       "      <th>iptype_time_mean1</th>\n",
       "      <th>iptype_time_mean2</th>\n",
       "      <th>iptype_time_min0</th>\n",
       "      <th>iptype_time_min1</th>\n",
       "      <th>iptype_time_min2</th>\n",
       "      <th>timestamp_online0</th>\n",
       "      <th>timestamp_online1</th>\n",
       "      <th>timestamp_online2</th>\n",
       "    </tr>\n",
       "  </thead>\n",
       "  <tbody>\n",
       "    <tr>\n",
       "      <th>0</th>\n",
       "      <td>0</td>\n",
       "      <td>0</td>\n",
       "      <td>0</td>\n",
       "      <td>0.0</td>\n",
       "      <td>148255</td>\n",
       "      <td>0</td>\n",
       "      <td>470740</td>\n",
       "      <td>2015-04-01 00:00:44.0</td>\n",
       "      <td>3</td>\n",
       "      <td>1.427818e+09</td>\n",
       "      <td>...</td>\n",
       "      <td>9000.0</td>\n",
       "      <td>5883.0</td>\n",
       "      <td>8000.000000</td>\n",
       "      <td>7000.0</td>\n",
       "      <td>5883.0</td>\n",
       "      <td>8000.0</td>\n",
       "      <td>5000.0</td>\n",
       "      <td>1.427439e+09</td>\n",
       "      <td>1.427441e+09</td>\n",
       "      <td>1.427439e+09</td>\n",
       "    </tr>\n",
       "    <tr>\n",
       "      <th>1</th>\n",
       "      <td>0</td>\n",
       "      <td>0</td>\n",
       "      <td>1</td>\n",
       "      <td>0.2</td>\n",
       "      <td>148255</td>\n",
       "      <td>0</td>\n",
       "      <td>470746</td>\n",
       "      <td>2015-04-01 00:01:16.0</td>\n",
       "      <td>4</td>\n",
       "      <td>1.427818e+09</td>\n",
       "      <td>...</td>\n",
       "      <td>9000.0</td>\n",
       "      <td>5883.0</td>\n",
       "      <td>8000.000000</td>\n",
       "      <td>7000.0</td>\n",
       "      <td>5883.0</td>\n",
       "      <td>8000.0</td>\n",
       "      <td>5000.0</td>\n",
       "      <td>1.427439e+09</td>\n",
       "      <td>1.427441e+09</td>\n",
       "      <td>1.427439e+09</td>\n",
       "    </tr>\n",
       "    <tr>\n",
       "      <th>2</th>\n",
       "      <td>0</td>\n",
       "      <td>0</td>\n",
       "      <td>0</td>\n",
       "      <td>0.0</td>\n",
       "      <td>17271</td>\n",
       "      <td>0</td>\n",
       "      <td>470754</td>\n",
       "      <td>2015-04-01 00:02:34.0</td>\n",
       "      <td>0</td>\n",
       "      <td>1.427818e+09</td>\n",
       "      <td>...</td>\n",
       "      <td>9000.0</td>\n",
       "      <td>7500.0</td>\n",
       "      <td>7333.333333</td>\n",
       "      <td>7000.0</td>\n",
       "      <td>5000.0</td>\n",
       "      <td>5000.0</td>\n",
       "      <td>5000.0</td>\n",
       "      <td>1.427818e+09</td>\n",
       "      <td>1.427819e+09</td>\n",
       "      <td>1.427809e+09</td>\n",
       "    </tr>\n",
       "    <tr>\n",
       "      <th>3</th>\n",
       "      <td>0</td>\n",
       "      <td>0</td>\n",
       "      <td>0</td>\n",
       "      <td>0.0</td>\n",
       "      <td>125402</td>\n",
       "      <td>0</td>\n",
       "      <td>470757</td>\n",
       "      <td>2015-04-01 00:03:08.0</td>\n",
       "      <td>0</td>\n",
       "      <td>1.427818e+09</td>\n",
       "      <td>...</td>\n",
       "      <td>5990.0</td>\n",
       "      <td>8000.0</td>\n",
       "      <td>9864.500000</td>\n",
       "      <td>5990.0</td>\n",
       "      <td>8000.0</td>\n",
       "      <td>5990.0</td>\n",
       "      <td>5990.0</td>\n",
       "      <td>1.427785e+09</td>\n",
       "      <td>1.427310e+09</td>\n",
       "      <td>1.427055e+09</td>\n",
       "    </tr>\n",
       "    <tr>\n",
       "      <th>4</th>\n",
       "      <td>0</td>\n",
       "      <td>0</td>\n",
       "      <td>1</td>\n",
       "      <td>0.2</td>\n",
       "      <td>16888</td>\n",
       "      <td>0</td>\n",
       "      <td>470759</td>\n",
       "      <td>2015-04-01 00:03:38.0</td>\n",
       "      <td>4</td>\n",
       "      <td>1.427818e+09</td>\n",
       "      <td>...</td>\n",
       "      <td>5990.0</td>\n",
       "      <td>8000.0</td>\n",
       "      <td>9864.500000</td>\n",
       "      <td>5990.0</td>\n",
       "      <td>8000.0</td>\n",
       "      <td>5990.0</td>\n",
       "      <td>5990.0</td>\n",
       "      <td>1.427821e+09</td>\n",
       "      <td>1.427823e+09</td>\n",
       "      <td>1.427809e+09</td>\n",
       "    </tr>\n",
       "  </tbody>\n",
       "</table>\n",
       "<p>5 rows × 625 columns</p>\n",
       "</div>"
      ],
      "text/plain": [
       "   hour  hour_v  hour_v_cnt  hour_v_cnt_rate      id  is_risk  rowkey  \\\n",
       "0     0       0           0              0.0  148255        0  470740   \n",
       "1     0       0           1              0.2  148255        0  470746   \n",
       "2     0       0           0              0.0   17271        0  470754   \n",
       "3     0       0           0              0.0  125402        0  470757   \n",
       "4     0       0           1              0.2   16888        0  470759   \n",
       "\n",
       "                    time  trade_cnt   trade_stamp        ...          \\\n",
       "0  2015-04-01 00:00:44.0          3  1.427818e+09        ...           \n",
       "1  2015-04-01 00:01:16.0          4  1.427818e+09        ...           \n",
       "2  2015-04-01 00:02:34.0          0  1.427818e+09        ...           \n",
       "3  2015-04-01 00:03:08.0          0  1.427818e+09        ...           \n",
       "4  2015-04-01 00:03:38.0          4  1.427818e+09        ...           \n",
       "\n",
       "   iptype_time_max2  iptype_time_mean0  iptype_time_mean1  iptype_time_mean2  \\\n",
       "0            9000.0             5883.0        8000.000000             7000.0   \n",
       "1            9000.0             5883.0        8000.000000             7000.0   \n",
       "2            9000.0             7500.0        7333.333333             7000.0   \n",
       "3            5990.0             8000.0        9864.500000             5990.0   \n",
       "4            5990.0             8000.0        9864.500000             5990.0   \n",
       "\n",
       "   iptype_time_min0  iptype_time_min1  iptype_time_min2  timestamp_online0  \\\n",
       "0            5883.0            8000.0            5000.0       1.427439e+09   \n",
       "1            5883.0            8000.0            5000.0       1.427439e+09   \n",
       "2            5000.0            5000.0            5000.0       1.427818e+09   \n",
       "3            8000.0            5990.0            5990.0       1.427785e+09   \n",
       "4            8000.0            5990.0            5990.0       1.427821e+09   \n",
       "\n",
       "   timestamp_online1  timestamp_online2  \n",
       "0       1.427441e+09       1.427439e+09  \n",
       "1       1.427441e+09       1.427439e+09  \n",
       "2       1.427819e+09       1.427809e+09  \n",
       "3       1.427310e+09       1.427055e+09  \n",
       "4       1.427823e+09       1.427809e+09  \n",
       "\n",
       "[5 rows x 625 columns]"
      ]
     },
     "execution_count": 25,
     "metadata": {},
     "output_type": "execute_result"
    }
   ],
   "source": [
    "al = al.fillna(method='bfill')\n",
    "al.head()"
   ]
  },
  {
   "cell_type": "code",
   "execution_count": 5,
   "metadata": {
    "collapsed": true
   },
   "outputs": [],
   "source": [
    "l = al.shape[0]"
   ]
  },
  {
   "cell_type": "code",
   "execution_count": 3,
   "metadata": {
    "collapsed": true
   },
   "outputs": [],
   "source": [
    "cols = al.columns"
   ]
  },
  {
   "cell_type": "code",
   "execution_count": 6,
   "metadata": {},
   "outputs": [],
   "source": [
    "a = pd.isnull(al).sum(axis=1)\n"
   ]
  },
  {
   "cell_type": "code",
   "execution_count": 21,
   "metadata": {},
   "outputs": [
    {
     "data": {
      "text/plain": [
       "612"
      ]
     },
     "execution_count": 21,
     "metadata": {},
     "output_type": "execute_result"
    }
   ],
   "source": [
    "max(a)"
   ]
  },
  {
   "cell_type": "code",
   "execution_count": 9,
   "metadata": {},
   "outputs": [],
   "source": [
    "ad = dict(zip(cols,a))"
   ]
  },
  {
   "cell_type": "code",
   "execution_count": 11,
   "metadata": {},
   "outputs": [],
   "source": [
    "for ki in ad:\n",
    "    ad[ki] = 1.0*ad[ki]/l\n"
   ]
  },
  {
   "cell_type": "code",
   "execution_count": 19,
   "metadata": {},
   "outputs": [],
   "source": [
    "res = []\n",
    "for ki in ad:\n",
    "    if ad[ki] > 0.2:\n",
    "        res.append(ki)"
   ]
  },
  {
   "cell_type": "code",
   "execution_count": null,
   "metadata": {},
   "outputs": [],
   "source": []
  },
  {
   "cell_type": "code",
   "execution_count": 20,
   "metadata": {},
   "outputs": [
    {
     "data": {
      "text/plain": [
       "0"
      ]
     },
     "execution_count": 20,
     "metadata": {},
     "output_type": "execute_result"
    }
   ],
   "source": [
    "len(res)"
   ]
  },
  {
   "cell_type": "code",
   "execution_count": null,
   "metadata": {
    "collapsed": true
   },
   "outputs": [],
   "source": []
  },
  {
   "cell_type": "code",
   "execution_count": null,
   "metadata": {
    "collapsed": true
   },
   "outputs": [],
   "source": []
  },
  {
   "cell_type": "code",
   "execution_count": null,
   "metadata": {
    "collapsed": true
   },
   "outputs": [],
   "source": []
  },
  {
   "cell_type": "code",
   "execution_count": null,
   "metadata": {
    "collapsed": true
   },
   "outputs": [],
   "source": []
  },
  {
   "cell_type": "code",
   "execution_count": null,
   "metadata": {
    "collapsed": true
   },
   "outputs": [],
   "source": []
  }
 ],
 "metadata": {
  "kernelspec": {
   "display_name": "Python 2",
   "language": "python",
   "name": "python2"
  },
  "language_info": {
   "codemirror_mode": {
    "name": "ipython",
    "version": 2
   },
   "file_extension": ".py",
   "mimetype": "text/x-python",
   "name": "python",
   "nbconvert_exporter": "python",
   "pygments_lexer": "ipython2",
   "version": "2.7.13"
  }
 },
 "nbformat": 4,
 "nbformat_minor": 2
}

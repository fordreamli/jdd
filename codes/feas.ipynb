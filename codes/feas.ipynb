{
 "cells": [
  {
   "cell_type": "code",
   "execution_count": 1,
   "metadata": {
    "collapsed": true
   },
   "outputs": [],
   "source": [
    "import pandas as pd\n",
    "import numpy as np\n",
    "import matplotlib.pyplot as plt\n",
    "import seaborn as sns"
   ]
  },
  {
   "cell_type": "code",
   "execution_count": 2,
   "metadata": {},
   "outputs": [
    {
     "data": {
      "text/html": [
       "<div>\n",
       "<style>\n",
       "    .dataframe thead tr:only-child th {\n",
       "        text-align: right;\n",
       "    }\n",
       "\n",
       "    .dataframe thead th {\n",
       "        text-align: left;\n",
       "    }\n",
       "\n",
       "    .dataframe tbody tr th {\n",
       "        vertical-align: top;\n",
       "    }\n",
       "</style>\n",
       "<table border=\"1\" class=\"dataframe\">\n",
       "  <thead>\n",
       "    <tr style=\"text-align: right;\">\n",
       "      <th></th>\n",
       "      <th>log_id</th>\n",
       "      <th>timelong</th>\n",
       "      <th>device</th>\n",
       "      <th>log_from</th>\n",
       "      <th>ip</th>\n",
       "      <th>city</th>\n",
       "      <th>result</th>\n",
       "      <th>timestamp</th>\n",
       "      <th>type</th>\n",
       "      <th>id</th>\n",
       "      <th>is_scan</th>\n",
       "      <th>is_sec</th>\n",
       "      <th>time</th>\n",
       "    </tr>\n",
       "  </thead>\n",
       "  <tbody>\n",
       "    <tr>\n",
       "      <th>0</th>\n",
       "      <td>2.618369e+15</td>\n",
       "      <td>5.0</td>\n",
       "      <td>879361</td>\n",
       "      <td>10</td>\n",
       "      <td>1026491</td>\n",
       "      <td>194</td>\n",
       "      <td>1</td>\n",
       "      <td>1.428642e+09</td>\n",
       "      <td>1</td>\n",
       "      <td>116825</td>\n",
       "      <td>True</td>\n",
       "      <td>False</td>\n",
       "      <td>2015-04-10 12:54:19</td>\n",
       "    </tr>\n",
       "    <tr>\n",
       "      <th>1</th>\n",
       "      <td>9.969739e+14</td>\n",
       "      <td>16124.0</td>\n",
       "      <td>835072</td>\n",
       "      <td>1</td>\n",
       "      <td>1026491</td>\n",
       "      <td>194</td>\n",
       "      <td>1</td>\n",
       "      <td>1.428809e+09</td>\n",
       "      <td>1</td>\n",
       "      <td>109987</td>\n",
       "      <td>False</td>\n",
       "      <td>False</td>\n",
       "      <td>2015-04-12 11:20:45</td>\n",
       "    </tr>\n",
       "    <tr>\n",
       "      <th>2</th>\n",
       "      <td>8.123343e+15</td>\n",
       "      <td>5.0</td>\n",
       "      <td>879361</td>\n",
       "      <td>10</td>\n",
       "      <td>1026491</td>\n",
       "      <td>194</td>\n",
       "      <td>1</td>\n",
       "      <td>1.427705e+09</td>\n",
       "      <td>1</td>\n",
       "      <td>116825</td>\n",
       "      <td>True</td>\n",
       "      <td>False</td>\n",
       "      <td>2015-03-30 16:38:20</td>\n",
       "    </tr>\n",
       "    <tr>\n",
       "      <th>3</th>\n",
       "      <td>3.265677e+14</td>\n",
       "      <td>6.0</td>\n",
       "      <td>879361</td>\n",
       "      <td>10</td>\n",
       "      <td>1026491</td>\n",
       "      <td>194</td>\n",
       "      <td>1</td>\n",
       "      <td>1.428309e+09</td>\n",
       "      <td>1</td>\n",
       "      <td>116825</td>\n",
       "      <td>True</td>\n",
       "      <td>False</td>\n",
       "      <td>2015-04-06 16:22:18</td>\n",
       "    </tr>\n",
       "    <tr>\n",
       "      <th>4</th>\n",
       "      <td>6.684659e+15</td>\n",
       "      <td>4.0</td>\n",
       "      <td>879361</td>\n",
       "      <td>10</td>\n",
       "      <td>1026491</td>\n",
       "      <td>194</td>\n",
       "      <td>1</td>\n",
       "      <td>1.428221e+09</td>\n",
       "      <td>1</td>\n",
       "      <td>116825</td>\n",
       "      <td>True</td>\n",
       "      <td>False</td>\n",
       "      <td>2015-04-05 15:55:01</td>\n",
       "    </tr>\n",
       "  </tbody>\n",
       "</table>\n",
       "</div>"
      ],
      "text/plain": [
       "         log_id  timelong  device  log_from       ip  city  result  \\\n",
       "0  2.618369e+15       5.0  879361        10  1026491   194       1   \n",
       "1  9.969739e+14   16124.0  835072         1  1026491   194       1   \n",
       "2  8.123343e+15       5.0  879361        10  1026491   194       1   \n",
       "3  3.265677e+14       6.0  879361        10  1026491   194       1   \n",
       "4  6.684659e+15       4.0  879361        10  1026491   194       1   \n",
       "\n",
       "      timestamp  type      id  is_scan  is_sec                 time  \n",
       "0  1.428642e+09     1  116825     True   False  2015-04-10 12:54:19  \n",
       "1  1.428809e+09     1  109987    False   False  2015-04-12 11:20:45  \n",
       "2  1.427705e+09     1  116825     True   False  2015-03-30 16:38:20  \n",
       "3  1.428309e+09     1  116825     True   False  2015-04-06 16:22:18  \n",
       "4  1.428221e+09     1  116825     True   False  2015-04-05 15:55:01  "
      ]
     },
     "execution_count": 2,
     "metadata": {},
     "output_type": "execute_result"
    }
   ],
   "source": [
    "t_login = pd.read_csv('../datas/t_login.csv')\n",
    "t_login.head()"
   ]
  },
  {
   "cell_type": "code",
   "execution_count": 64,
   "metadata": {},
   "outputs": [
    {
     "data": {
      "text/html": [
       "<div>\n",
       "<style>\n",
       "    .dataframe thead tr:only-child th {\n",
       "        text-align: right;\n",
       "    }\n",
       "\n",
       "    .dataframe thead th {\n",
       "        text-align: left;\n",
       "    }\n",
       "\n",
       "    .dataframe tbody tr th {\n",
       "        vertical-align: top;\n",
       "    }\n",
       "</style>\n",
       "<table border=\"1\" class=\"dataframe\">\n",
       "  <thead>\n",
       "    <tr style=\"text-align: right;\">\n",
       "      <th></th>\n",
       "      <th>log_id</th>\n",
       "      <th>timelong</th>\n",
       "      <th>device</th>\n",
       "      <th>log_from</th>\n",
       "      <th>ip</th>\n",
       "      <th>city</th>\n",
       "      <th>result</th>\n",
       "      <th>timestamp</th>\n",
       "      <th>type</th>\n",
       "      <th>id</th>\n",
       "      <th>is_scan</th>\n",
       "      <th>is_sec</th>\n",
       "      <th>time</th>\n",
       "      <th>timestamp_online</th>\n",
       "    </tr>\n",
       "  </thead>\n",
       "  <tbody>\n",
       "    <tr>\n",
       "      <th>0</th>\n",
       "      <td>2.618369e+15</td>\n",
       "      <td>5.0</td>\n",
       "      <td>879361</td>\n",
       "      <td>10</td>\n",
       "      <td>1026491</td>\n",
       "      <td>194</td>\n",
       "      <td>1</td>\n",
       "      <td>1.428642e+09</td>\n",
       "      <td>1</td>\n",
       "      <td>116825</td>\n",
       "      <td>True</td>\n",
       "      <td>False</td>\n",
       "      <td>2015-04-10 12:54:19</td>\n",
       "      <td>1.428642e+09</td>\n",
       "    </tr>\n",
       "    <tr>\n",
       "      <th>1</th>\n",
       "      <td>9.969739e+14</td>\n",
       "      <td>16124.0</td>\n",
       "      <td>835072</td>\n",
       "      <td>1</td>\n",
       "      <td>1026491</td>\n",
       "      <td>194</td>\n",
       "      <td>1</td>\n",
       "      <td>1.428809e+09</td>\n",
       "      <td>1</td>\n",
       "      <td>109987</td>\n",
       "      <td>False</td>\n",
       "      <td>False</td>\n",
       "      <td>2015-04-12 11:20:45</td>\n",
       "      <td>1.428825e+09</td>\n",
       "    </tr>\n",
       "    <tr>\n",
       "      <th>2</th>\n",
       "      <td>8.123343e+15</td>\n",
       "      <td>5.0</td>\n",
       "      <td>879361</td>\n",
       "      <td>10</td>\n",
       "      <td>1026491</td>\n",
       "      <td>194</td>\n",
       "      <td>1</td>\n",
       "      <td>1.427705e+09</td>\n",
       "      <td>1</td>\n",
       "      <td>116825</td>\n",
       "      <td>True</td>\n",
       "      <td>False</td>\n",
       "      <td>2015-03-30 16:38:20</td>\n",
       "      <td>1.427705e+09</td>\n",
       "    </tr>\n",
       "    <tr>\n",
       "      <th>3</th>\n",
       "      <td>3.265677e+14</td>\n",
       "      <td>6.0</td>\n",
       "      <td>879361</td>\n",
       "      <td>10</td>\n",
       "      <td>1026491</td>\n",
       "      <td>194</td>\n",
       "      <td>1</td>\n",
       "      <td>1.428309e+09</td>\n",
       "      <td>1</td>\n",
       "      <td>116825</td>\n",
       "      <td>True</td>\n",
       "      <td>False</td>\n",
       "      <td>2015-04-06 16:22:18</td>\n",
       "      <td>1.428309e+09</td>\n",
       "    </tr>\n",
       "    <tr>\n",
       "      <th>4</th>\n",
       "      <td>6.684659e+15</td>\n",
       "      <td>4.0</td>\n",
       "      <td>879361</td>\n",
       "      <td>10</td>\n",
       "      <td>1026491</td>\n",
       "      <td>194</td>\n",
       "      <td>1</td>\n",
       "      <td>1.428221e+09</td>\n",
       "      <td>1</td>\n",
       "      <td>116825</td>\n",
       "      <td>True</td>\n",
       "      <td>False</td>\n",
       "      <td>2015-04-05 15:55:01</td>\n",
       "      <td>1.428221e+09</td>\n",
       "    </tr>\n",
       "  </tbody>\n",
       "</table>\n",
       "</div>"
      ],
      "text/plain": [
       "         log_id  timelong  device  log_from       ip  city  result  \\\n",
       "0  2.618369e+15       5.0  879361        10  1026491   194       1   \n",
       "1  9.969739e+14   16124.0  835072         1  1026491   194       1   \n",
       "2  8.123343e+15       5.0  879361        10  1026491   194       1   \n",
       "3  3.265677e+14       6.0  879361        10  1026491   194       1   \n",
       "4  6.684659e+15       4.0  879361        10  1026491   194       1   \n",
       "\n",
       "      timestamp  type      id  is_scan  is_sec                 time  \\\n",
       "0  1.428642e+09     1  116825     True   False  2015-04-10 12:54:19   \n",
       "1  1.428809e+09     1  109987    False   False  2015-04-12 11:20:45   \n",
       "2  1.427705e+09     1  116825     True   False  2015-03-30 16:38:20   \n",
       "3  1.428309e+09     1  116825     True   False  2015-04-06 16:22:18   \n",
       "4  1.428221e+09     1  116825     True   False  2015-04-05 15:55:01   \n",
       "\n",
       "   timestamp_online  \n",
       "0      1.428642e+09  \n",
       "1      1.428825e+09  \n",
       "2      1.427705e+09  \n",
       "3      1.428309e+09  \n",
       "4      1.428221e+09  "
      ]
     },
     "execution_count": 64,
     "metadata": {},
     "output_type": "execute_result"
    }
   ],
   "source": [
    "t_login['timestamp_online'] = t_login['timestamp'] + t_login['timelong']\n",
    "t_login.head()"
   ]
  },
  {
   "cell_type": "code",
   "execution_count": 65,
   "metadata": {},
   "outputs": [
    {
     "data": {
      "text/plain": [
       "(595645, 14)"
      ]
     },
     "execution_count": 65,
     "metadata": {},
     "output_type": "execute_result"
    }
   ],
   "source": [
    "t_login.shape"
   ]
  },
  {
   "cell_type": "code",
   "execution_count": 66,
   "metadata": {},
   "outputs": [
    {
     "data": {
      "text/plain": [
       "(460503, 14)"
      ]
     },
     "execution_count": 66,
     "metadata": {},
     "output_type": "execute_result"
    }
   ],
   "source": [
    "data = t_login[t_login['result']==1]\n",
    "data.shape"
   ]
  },
  {
   "cell_type": "code",
   "execution_count": null,
   "metadata": {
    "collapsed": true
   },
   "outputs": [],
   "source": []
  },
  {
   "cell_type": "code",
   "execution_count": null,
   "metadata": {
    "collapsed": true
   },
   "outputs": [],
   "source": []
  },
  {
   "cell_type": "code",
   "execution_count": null,
   "metadata": {
    "collapsed": true
   },
   "outputs": [],
   "source": []
  },
  {
   "cell_type": "code",
   "execution_count": 62,
   "metadata": {},
   "outputs": [
    {
     "data": {
      "text/html": [
       "<div>\n",
       "<style>\n",
       "    .dataframe thead tr:only-child th {\n",
       "        text-align: right;\n",
       "    }\n",
       "\n",
       "    .dataframe thead th {\n",
       "        text-align: left;\n",
       "    }\n",
       "\n",
       "    .dataframe tbody tr th {\n",
       "        vertical-align: top;\n",
       "    }\n",
       "</style>\n",
       "<table border=\"1\" class=\"dataframe\">\n",
       "  <thead>\n",
       "    <tr style=\"text-align: right;\">\n",
       "      <th></th>\n",
       "      <th>ip</th>\n",
       "    </tr>\n",
       "    <tr>\n",
       "      <th>result</th>\n",
       "      <th></th>\n",
       "    </tr>\n",
       "  </thead>\n",
       "  <tbody>\n",
       "    <tr>\n",
       "      <th>-4</th>\n",
       "      <td>857</td>\n",
       "    </tr>\n",
       "    <tr>\n",
       "      <th>-2</th>\n",
       "      <td>12428</td>\n",
       "    </tr>\n",
       "    <tr>\n",
       "      <th>-1</th>\n",
       "      <td>11541</td>\n",
       "    </tr>\n",
       "    <tr>\n",
       "      <th>1</th>\n",
       "      <td>460503</td>\n",
       "    </tr>\n",
       "    <tr>\n",
       "      <th>3</th>\n",
       "      <td>40</td>\n",
       "    </tr>\n",
       "  </tbody>\n",
       "</table>\n",
       "</div>"
      ],
      "text/plain": [
       "            ip\n",
       "result        \n",
       "-4         857\n",
       "-2       12428\n",
       "-1       11541\n",
       " 1      460503\n",
       " 3          40"
      ]
     },
     "execution_count": 62,
     "metadata": {},
     "output_type": "execute_result"
    }
   ],
   "source": [
    "d = t_login[['result','ip']].groupby('result').count()\n",
    "d.head()"
   ]
  },
  {
   "cell_type": "code",
   "execution_count": 63,
   "metadata": {},
   "outputs": [
    {
     "data": {
      "image/png": "[encoded data removed]",
      "text/plain": [
       "<matplotlib.figure.Figure at 0x1a16c90690>"
      ]
     },
     "metadata": {},
     "output_type": "display_data"
    }
   ],
   "source": [
    "d.plot.bar(figsize=(16, 4))\n",
    "plt.show()"
   ]
  },
  {
   "cell_type": "code",
   "execution_count": null,
   "metadata": {
    "collapsed": true
   },
   "outputs": [],
   "source": []
  },
  {
   "cell_type": "code",
   "execution_count": 55,
   "metadata": {},
   "outputs": [
    {
     "data": {
      "text/plain": [
       "1428808845.0"
      ]
     },
     "execution_count": 55,
     "metadata": {},
     "output_type": "execute_result"
    }
   ],
   "source": [
    "t_login.loc[1]['timestamp']"
   ]
  },
  {
   "cell_type": "code",
   "execution_count": 56,
   "metadata": {},
   "outputs": [
    {
     "data": {
      "text/plain": [
       "1428837645"
      ]
     },
     "execution_count": 56,
     "metadata": {},
     "output_type": "execute_result"
    }
   ],
   "source": [
    "pd.to_datetime('2015-04-12 11:20:45').value//10**9"
   ]
  },
  {
   "cell_type": "code",
   "execution_count": 112,
   "metadata": {},
   "outputs": [
    {
     "data": {
      "text/plain": [
       "1428837615"
      ]
     },
     "execution_count": 112,
     "metadata": {},
     "output_type": "execute_result"
    }
   ],
   "source": [
    "pd.to_datetime('2015-04-12 11:20:15').value//10**9"
   ]
  },
  {
   "cell_type": "code",
   "execution_count": 113,
   "metadata": {},
   "outputs": [
    {
     "data": {
      "text/plain": [
       "30"
      ]
     },
     "execution_count": 113,
     "metadata": {},
     "output_type": "execute_result"
    }
   ],
   "source": [
    "1428837645 - 1428837615"
   ]
  },
  {
   "cell_type": "code",
   "execution_count": null,
   "metadata": {
    "collapsed": true
   },
   "outputs": [],
   "source": []
  },
  {
   "cell_type": "code",
   "execution_count": 57,
   "metadata": {},
   "outputs": [
    {
     "data": {
      "text/plain": [
       "28800.0"
      ]
     },
     "execution_count": 57,
     "metadata": {},
     "output_type": "execute_result"
    }
   ],
   "source": [
    "1428837645 - 1428808845.0"
   ]
  },
  {
   "cell_type": "code",
   "execution_count": null,
   "metadata": {
    "collapsed": true
   },
   "outputs": [],
   "source": []
  },
  {
   "cell_type": "code",
   "execution_count": null,
   "metadata": {
    "collapsed": true
   },
   "outputs": [],
   "source": []
  },
  {
   "cell_type": "code",
   "execution_count": 71,
   "metadata": {},
   "outputs": [
    {
     "name": "stderr",
     "output_type": "stream",
     "text": [
      "/anaconda/lib/python2.7/site-packages/ipykernel_launcher.py:3: UserWarning: Boolean Series key will be reindexed to match DataFrame index.\n",
      "  This is separate from the ipykernel package so we can avoid doing imports until\n"
     ]
    },
    {
     "data": {
      "text/html": [
       "<div>\n",
       "<style>\n",
       "    .dataframe thead tr:only-child th {\n",
       "        text-align: right;\n",
       "    }\n",
       "\n",
       "    .dataframe thead th {\n",
       "        text-align: left;\n",
       "    }\n",
       "\n",
       "    .dataframe tbody tr th {\n",
       "        vertical-align: top;\n",
       "    }\n",
       "</style>\n",
       "<table border=\"1\" class=\"dataframe\">\n",
       "  <thead>\n",
       "    <tr style=\"text-align: right;\">\n",
       "      <th></th>\n",
       "      <th>index</th>\n",
       "      <th>log_id</th>\n",
       "      <th>timelong</th>\n",
       "      <th>device</th>\n",
       "      <th>log_from</th>\n",
       "      <th>ip</th>\n",
       "      <th>city</th>\n",
       "      <th>result</th>\n",
       "      <th>timestamp</th>\n",
       "      <th>type</th>\n",
       "      <th>id</th>\n",
       "      <th>is_scan</th>\n",
       "      <th>is_sec</th>\n",
       "      <th>time</th>\n",
       "      <th>timestamp_online</th>\n",
       "    </tr>\n",
       "  </thead>\n",
       "  <tbody>\n",
       "    <tr>\n",
       "      <th>0</th>\n",
       "      <td>398441</td>\n",
       "      <td>5.175043e+15</td>\n",
       "      <td>9000.0</td>\n",
       "      <td>835072</td>\n",
       "      <td>2</td>\n",
       "      <td>724987</td>\n",
       "      <td>418</td>\n",
       "      <td>1</td>\n",
       "      <td>1.420052e+09</td>\n",
       "      <td>3</td>\n",
       "      <td>18138</td>\n",
       "      <td>False</td>\n",
       "      <td>False</td>\n",
       "      <td>2015-01-01 02:59:24</td>\n",
       "      <td>1.420061e+09</td>\n",
       "    </tr>\n",
       "    <tr>\n",
       "      <th>1</th>\n",
       "      <td>501080</td>\n",
       "      <td>5.612790e+15</td>\n",
       "      <td>22900.0</td>\n",
       "      <td>38853</td>\n",
       "      <td>1</td>\n",
       "      <td>1209900</td>\n",
       "      <td>471</td>\n",
       "      <td>1</td>\n",
       "      <td>1.420051e+09</td>\n",
       "      <td>3</td>\n",
       "      <td>18138</td>\n",
       "      <td>False</td>\n",
       "      <td>False</td>\n",
       "      <td>2015-01-01 02:38:52</td>\n",
       "      <td>1.420074e+09</td>\n",
       "    </tr>\n",
       "    <tr>\n",
       "      <th>2</th>\n",
       "      <td>51617</td>\n",
       "      <td>8.379107e+15</td>\n",
       "      <td>3000.0</td>\n",
       "      <td>835072</td>\n",
       "      <td>2</td>\n",
       "      <td>489783</td>\n",
       "      <td>44</td>\n",
       "      <td>1</td>\n",
       "      <td>1.420048e+09</td>\n",
       "      <td>3</td>\n",
       "      <td>18138</td>\n",
       "      <td>False</td>\n",
       "      <td>False</td>\n",
       "      <td>2015-01-01 01:41:13</td>\n",
       "      <td>1.420051e+09</td>\n",
       "    </tr>\n",
       "  </tbody>\n",
       "</table>\n",
       "</div>"
      ],
      "text/plain": [
       "    index        log_id  timelong  device  log_from       ip  city  result  \\\n",
       "0  398441  5.175043e+15    9000.0  835072         2   724987   418       1   \n",
       "1  501080  5.612790e+15   22900.0   38853         1  1209900   471       1   \n",
       "2   51617  8.379107e+15    3000.0  835072         2   489783    44       1   \n",
       "\n",
       "      timestamp  type     id  is_scan  is_sec                 time  \\\n",
       "0  1.420052e+09     3  18138    False   False  2015-01-01 02:59:24   \n",
       "1  1.420051e+09     3  18138    False   False  2015-01-01 02:38:52   \n",
       "2  1.420048e+09     3  18138    False   False  2015-01-01 01:41:13   \n",
       "\n",
       "   timestamp_online  \n",
       "0      1.420061e+09  \n",
       "1      1.420074e+09  \n",
       "2      1.420051e+09  "
      ]
     },
     "execution_count": 71,
     "metadata": {},
     "output_type": "execute_result"
    }
   ],
   "source": [
    "id = 18138\n",
    "time = '2015-01-01 03:02:01.0'\n",
    "d = t_login[t_login['id']==id][t_login['time']<time]\\\n",
    "                .sort_values('time',ascending=False)\\\n",
    "                .reset_index()\n",
    "d"
   ]
  },
  {
   "cell_type": "code",
   "execution_count": 109,
   "metadata": {},
   "outputs": [
    {
     "data": {
      "text/plain": [
       "Series([], Name: ip, dtype: int64)"
      ]
     },
     "execution_count": 109,
     "metadata": {},
     "output_type": "execute_result"
    }
   ],
   "source": [
    "d['result'] = d['result'].map(lambda x: x==1 and 1 or -1)\n",
    "dtt = d[d['result']==-1]['ip'].value_counts()\n",
    "dtt"
   ]
  },
  {
   "cell_type": "code",
   "execution_count": 111,
   "metadata": {},
   "outputs": [
    {
     "ename": "KeyError",
     "evalue": "'1'",
     "output_type": "error",
     "traceback": [
      "\u001b[0;31m---------------------------------------------------------------------------\u001b[0m",
      "\u001b[0;31mKeyError\u001b[0m                                  Traceback (most recent call last)",
      "\u001b[0;32m<ipython-input-111-3a01f4bc5a94>\u001b[0m in \u001b[0;36m<module>\u001b[0;34m()\u001b[0m\n\u001b[0;32m----> 1\u001b[0;31m \u001b[0mdict\u001b[0m\u001b[0;34m(\u001b[0m\u001b[0mdtt\u001b[0m\u001b[0;34m)\u001b[0m\u001b[0;34m[\u001b[0m\u001b[0;34m'1'\u001b[0m\u001b[0;34m]\u001b[0m\u001b[0;34m\u001b[0m\u001b[0m\n\u001b[0m",
      "\u001b[0;31mKeyError\u001b[0m: '1'"
     ]
    }
   ],
   "source": [
    "dict(dtt)"
   ]
  },
  {
   "cell_type": "code",
   "execution_count": null,
   "metadata": {
    "collapsed": true
   },
   "outputs": [],
   "source": []
  },
  {
   "cell_type": "code",
   "execution_count": null,
   "metadata": {
    "collapsed": true
   },
   "outputs": [],
   "source": []
  },
  {
   "cell_type": "code",
   "execution_count": 101,
   "metadata": {},
   "outputs": [
    {
     "data": {
      "text/plain": [
       "{'ip': 3, 'result': 3}"
      ]
     },
     "execution_count": 101,
     "metadata": {},
     "output_type": "execute_result"
    }
   ],
   "source": [
    "dict(dtt.count())"
   ]
  },
  {
   "cell_type": "code",
   "execution_count": 72,
   "metadata": {},
   "outputs": [
    {
     "data": {
      "text/plain": [
       "0     9000.0\n",
       "1    22900.0\n",
       "2     3000.0\n",
       "Name: timelong, dtype: float64"
      ]
     },
     "execution_count": 72,
     "metadata": {},
     "output_type": "execute_result"
    }
   ],
   "source": [
    "d.loc[:3]['timelong']"
   ]
  },
  {
   "cell_type": "code",
   "execution_count": 73,
   "metadata": {},
   "outputs": [
    {
     "data": {
      "text/plain": [
       "9000.0"
      ]
     },
     "execution_count": 73,
     "metadata": {},
     "output_type": "execute_result"
    }
   ],
   "source": [
    "d.loc[:3]['timelong'].median()"
   ]
  },
  {
   "cell_type": "code",
   "execution_count": 76,
   "metadata": {
    "collapsed": true
   },
   "outputs": [],
   "source": [
    "tmp = d.loc[:3]['is_scan'].value_counts()"
   ]
  },
  {
   "cell_type": "code",
   "execution_count": 91,
   "metadata": {},
   "outputs": [
    {
     "data": {
      "text/plain": [
       "True"
      ]
     },
     "execution_count": 91,
     "metadata": {},
     "output_type": "execute_result"
    }
   ],
   "source": [
    "False in dict(tmp)"
   ]
  },
  {
   "cell_type": "code",
   "execution_count": null,
   "metadata": {
    "collapsed": true
   },
   "outputs": [],
   "source": []
  },
  {
   "cell_type": "code",
   "execution_count": null,
   "metadata": {
    "collapsed": true
   },
   "outputs": [],
   "source": []
  },
  {
   "cell_type": "code",
   "execution_count": 37,
   "metadata": {},
   "outputs": [
    {
     "data": {
      "text/plain": [
       "1420052364.0"
      ]
     },
     "execution_count": 37,
     "metadata": {},
     "output_type": "execute_result"
    }
   ],
   "source": [
    "d.loc[0]['timestamp']"
   ]
  },
  {
   "cell_type": "code",
   "execution_count": 46,
   "metadata": {},
   "outputs": [
    {
     "data": {
      "text/plain": [
       "Timestamp('1970-01-01 00:00:01.420052364')"
      ]
     },
     "execution_count": 46,
     "metadata": {},
     "output_type": "execute_result"
    }
   ],
   "source": [
    "pd.to_datetime(1420052364.0)"
   ]
  },
  {
   "cell_type": "code",
   "execution_count": 45,
   "metadata": {},
   "outputs": [
    {
     "data": {
      "text/plain": [
       "1420081164"
      ]
     },
     "execution_count": 45,
     "metadata": {},
     "output_type": "execute_result"
    }
   ],
   "source": [
    "pd.to_datetime('2015-01-01 02:59:24').value//10**9"
   ]
  },
  {
   "cell_type": "code",
   "execution_count": 50,
   "metadata": {},
   "outputs": [
    {
     "data": {
      "text/plain": [
       "28800.0"
      ]
     },
     "execution_count": 50,
     "metadata": {},
     "output_type": "execute_result"
    }
   ],
   "source": [
    "1420081164 - 1420052364.0"
   ]
  },
  {
   "cell_type": "code",
   "execution_count": 42,
   "metadata": {},
   "outputs": [
    {
     "data": {
      "text/plain": [
       "1420090164.0"
      ]
     },
     "execution_count": 42,
     "metadata": {},
     "output_type": "execute_result"
    }
   ],
   "source": [
    "pd.Timestamp('2015-01-01 02:59:24').value//10**9 + 9000.0"
   ]
  },
  {
   "cell_type": "code",
   "execution_count": null,
   "metadata": {
    "collapsed": true
   },
   "outputs": [],
   "source": []
  },
  {
   "cell_type": "code",
   "execution_count": 24,
   "metadata": {},
   "outputs": [
    {
     "data": {
      "text/plain": [
       "10208.003396028693"
      ]
     },
     "execution_count": 24,
     "metadata": {},
     "output_type": "execute_result"
    }
   ],
   "source": [
    "d.loc[:3]['timelong'].std()"
   ]
  },
  {
   "cell_type": "code",
   "execution_count": null,
   "metadata": {
    "collapsed": true
   },
   "outputs": [],
   "source": []
  },
  {
   "cell_type": "code",
   "execution_count": 47,
   "metadata": {},
   "outputs": [
    {
     "data": {
      "text/plain": [
       "1420051132.0"
      ]
     },
     "execution_count": 47,
     "metadata": {},
     "output_type": "execute_result"
    }
   ],
   "source": [
    "d.loc[1]['timestamp']"
   ]
  },
  {
   "cell_type": "code",
   "execution_count": 48,
   "metadata": {},
   "outputs": [
    {
     "data": {
      "text/plain": [
       "1420079932"
      ]
     },
     "execution_count": 48,
     "metadata": {},
     "output_type": "execute_result"
    }
   ],
   "source": [
    "pd.to_datetime('2015-01-01 02:38:52').value//10**9"
   ]
  },
  {
   "cell_type": "code",
   "execution_count": 51,
   "metadata": {},
   "outputs": [
    {
     "data": {
      "text/plain": [
       "28800.0"
      ]
     },
     "execution_count": 51,
     "metadata": {},
     "output_type": "execute_result"
    }
   ],
   "source": [
    "1420079932 - 1420051132.0"
   ]
  },
  {
   "cell_type": "code",
   "execution_count": 49,
   "metadata": {},
   "outputs": [
    {
     "data": {
      "text/plain": [
       "1420104064.0"
      ]
     },
     "execution_count": 49,
     "metadata": {},
     "output_type": "execute_result"
    }
   ],
   "source": [
    "pd.Timestamp('2015-01-01 02:59:24').value//10**9 + 22900.0"
   ]
  },
  {
   "cell_type": "code",
   "execution_count": null,
   "metadata": {
    "collapsed": true
   },
   "outputs": [],
   "source": []
  },
  {
   "cell_type": "code",
   "execution_count": 52,
   "metadata": {},
   "outputs": [
    {
     "data": {
      "text/plain": [
       "1420047673.0"
      ]
     },
     "execution_count": 52,
     "metadata": {},
     "output_type": "execute_result"
    }
   ],
   "source": [
    "d.loc[2]['timestamp']"
   ]
  },
  {
   "cell_type": "code",
   "execution_count": 53,
   "metadata": {},
   "outputs": [
    {
     "data": {
      "text/plain": [
       "1420076473"
      ]
     },
     "execution_count": 53,
     "metadata": {},
     "output_type": "execute_result"
    }
   ],
   "source": [
    "pd.to_datetime('2015-01-01 01:41:13').value//10**9"
   ]
  },
  {
   "cell_type": "code",
   "execution_count": 54,
   "metadata": {},
   "outputs": [
    {
     "data": {
      "text/plain": [
       "28800.0"
      ]
     },
     "execution_count": 54,
     "metadata": {},
     "output_type": "execute_result"
    }
   ],
   "source": [
    "1420076473 - 1420047673.0"
   ]
  },
  {
   "cell_type": "code",
   "execution_count": null,
   "metadata": {
    "collapsed": true
   },
   "outputs": [],
   "source": []
  },
  {
   "cell_type": "code",
   "execution_count": null,
   "metadata": {
    "collapsed": true
   },
   "outputs": [],
   "source": []
  },
  {
   "cell_type": "code",
   "execution_count": null,
   "metadata": {
    "collapsed": true
   },
   "outputs": [],
   "source": []
  },
  {
   "cell_type": "code",
   "execution_count": null,
   "metadata": {
    "collapsed": true
   },
   "outputs": [],
   "source": []
  },
  {
   "cell_type": "code",
   "execution_count": 3,
   "metadata": {},
   "outputs": [
    {
     "data": {
      "text/html": [
       "<div>\n",
       "<style>\n",
       "    .dataframe thead tr:only-child th {\n",
       "        text-align: right;\n",
       "    }\n",
       "\n",
       "    .dataframe thead th {\n",
       "        text-align: left;\n",
       "    }\n",
       "\n",
       "    .dataframe tbody tr th {\n",
       "        vertical-align: top;\n",
       "    }\n",
       "</style>\n",
       "<table border=\"1\" class=\"dataframe\">\n",
       "  <thead>\n",
       "    <tr style=\"text-align: right;\">\n",
       "      <th></th>\n",
       "      <th>rowkey</th>\n",
       "      <th>time</th>\n",
       "      <th>id</th>\n",
       "      <th>is_risk</th>\n",
       "    </tr>\n",
       "  </thead>\n",
       "  <tbody>\n",
       "    <tr>\n",
       "      <th>0</th>\n",
       "      <td>3</td>\n",
       "      <td>2015-01-01 00:00:41.0</td>\n",
       "      <td>27863</td>\n",
       "      <td>0</td>\n",
       "    </tr>\n",
       "    <tr>\n",
       "      <th>1</th>\n",
       "      <td>6</td>\n",
       "      <td>2015-01-01 00:00:46.0</td>\n",
       "      <td>115201</td>\n",
       "      <td>0</td>\n",
       "    </tr>\n",
       "    <tr>\n",
       "      <th>2</th>\n",
       "      <td>13</td>\n",
       "      <td>2015-01-01 00:01:02.0</td>\n",
       "      <td>143711</td>\n",
       "      <td>0</td>\n",
       "    </tr>\n",
       "    <tr>\n",
       "      <th>3</th>\n",
       "      <td>32</td>\n",
       "      <td>2015-01-01 00:03:00.0</td>\n",
       "      <td>172699</td>\n",
       "      <td>0</td>\n",
       "    </tr>\n",
       "    <tr>\n",
       "      <th>4</th>\n",
       "      <td>43</td>\n",
       "      <td>2015-01-01 00:03:52.0</td>\n",
       "      <td>53265</td>\n",
       "      <td>0</td>\n",
       "    </tr>\n",
       "  </tbody>\n",
       "</table>\n",
       "</div>"
      ],
      "text/plain": [
       "   rowkey                   time      id  is_risk\n",
       "0       3  2015-01-01 00:00:41.0   27863        0\n",
       "1       6  2015-01-01 00:00:46.0  115201        0\n",
       "2      13  2015-01-01 00:01:02.0  143711        0\n",
       "3      32  2015-01-01 00:03:00.0  172699        0\n",
       "4      43  2015-01-01 00:03:52.0   53265        0"
      ]
     },
     "execution_count": 3,
     "metadata": {},
     "output_type": "execute_result"
    }
   ],
   "source": [
    "t_trade = pd.read_csv('../datas/t_trade.csv')\n",
    "t_trade.head()"
   ]
  },
  {
   "cell_type": "code",
   "execution_count": 4,
   "metadata": {},
   "outputs": [
    {
     "data": {
      "text/html": [
       "<div>\n",
       "<style>\n",
       "    .dataframe thead tr:only-child th {\n",
       "        text-align: right;\n",
       "    }\n",
       "\n",
       "    .dataframe thead th {\n",
       "        text-align: left;\n",
       "    }\n",
       "\n",
       "    .dataframe tbody tr th {\n",
       "        vertical-align: top;\n",
       "    }\n",
       "</style>\n",
       "<table border=\"1\" class=\"dataframe\">\n",
       "  <thead>\n",
       "    <tr style=\"text-align: right;\">\n",
       "      <th></th>\n",
       "      <th>log_id</th>\n",
       "      <th>timelong</th>\n",
       "      <th>device</th>\n",
       "      <th>log_from</th>\n",
       "      <th>ip</th>\n",
       "      <th>city</th>\n",
       "      <th>result</th>\n",
       "      <th>timestamp</th>\n",
       "      <th>type</th>\n",
       "      <th>id</th>\n",
       "      <th>is_scan</th>\n",
       "      <th>is_sec</th>\n",
       "      <th>time</th>\n",
       "    </tr>\n",
       "  </thead>\n",
       "  <tbody>\n",
       "    <tr>\n",
       "      <th>0</th>\n",
       "      <td>1.955082e+16</td>\n",
       "      <td>7000.0</td>\n",
       "      <td>419819</td>\n",
       "      <td>2</td>\n",
       "      <td>1536093</td>\n",
       "      <td>238</td>\n",
       "      <td>1</td>\n",
       "      <td>1.436157e+09</td>\n",
       "      <td>3</td>\n",
       "      <td>5887</td>\n",
       "      <td>False</td>\n",
       "      <td>False</td>\n",
       "      <td>2015-07-06 12:23:45</td>\n",
       "    </tr>\n",
       "    <tr>\n",
       "      <th>1</th>\n",
       "      <td>9.716474e+15</td>\n",
       "      <td>16363.0</td>\n",
       "      <td>298355</td>\n",
       "      <td>1</td>\n",
       "      <td>715488</td>\n",
       "      <td>238</td>\n",
       "      <td>1</td>\n",
       "      <td>1.437054e+09</td>\n",
       "      <td>3</td>\n",
       "      <td>10909</td>\n",
       "      <td>False</td>\n",
       "      <td>False</td>\n",
       "      <td>2015-07-16 21:44:41</td>\n",
       "    </tr>\n",
       "    <tr>\n",
       "      <th>2</th>\n",
       "      <td>7.371385e+15</td>\n",
       "      <td>22379.0</td>\n",
       "      <td>298355</td>\n",
       "      <td>1</td>\n",
       "      <td>715488</td>\n",
       "      <td>238</td>\n",
       "      <td>1</td>\n",
       "      <td>1.437015e+09</td>\n",
       "      <td>3</td>\n",
       "      <td>10909</td>\n",
       "      <td>False</td>\n",
       "      <td>False</td>\n",
       "      <td>2015-07-16 10:46:41</td>\n",
       "    </tr>\n",
       "    <tr>\n",
       "      <th>3</th>\n",
       "      <td>9.642499e+13</td>\n",
       "      <td>27733.0</td>\n",
       "      <td>298355</td>\n",
       "      <td>1</td>\n",
       "      <td>646560</td>\n",
       "      <td>238</td>\n",
       "      <td>1</td>\n",
       "      <td>1.436795e+09</td>\n",
       "      <td>3</td>\n",
       "      <td>10909</td>\n",
       "      <td>False</td>\n",
       "      <td>False</td>\n",
       "      <td>2015-07-13 21:38:23</td>\n",
       "    </tr>\n",
       "    <tr>\n",
       "      <th>4</th>\n",
       "      <td>3.714001e+16</td>\n",
       "      <td>6242.0</td>\n",
       "      <td>747880</td>\n",
       "      <td>1</td>\n",
       "      <td>238942</td>\n",
       "      <td>238</td>\n",
       "      <td>1</td>\n",
       "      <td>1.437444e+09</td>\n",
       "      <td>1</td>\n",
       "      <td>151823</td>\n",
       "      <td>False</td>\n",
       "      <td>False</td>\n",
       "      <td>2015-07-21 10:02:49</td>\n",
       "    </tr>\n",
       "  </tbody>\n",
       "</table>\n",
       "</div>"
      ],
      "text/plain": [
       "         log_id  timelong  device  log_from       ip  city  result  \\\n",
       "0  1.955082e+16    7000.0  419819         2  1536093   238       1   \n",
       "1  9.716474e+15   16363.0  298355         1   715488   238       1   \n",
       "2  7.371385e+15   22379.0  298355         1   715488   238       1   \n",
       "3  9.642499e+13   27733.0  298355         1   646560   238       1   \n",
       "4  3.714001e+16    6242.0  747880         1   238942   238       1   \n",
       "\n",
       "      timestamp  type      id  is_scan  is_sec                 time  \n",
       "0  1.436157e+09     3    5887    False   False  2015-07-06 12:23:45  \n",
       "1  1.437054e+09     3   10909    False   False  2015-07-16 21:44:41  \n",
       "2  1.437015e+09     3   10909    False   False  2015-07-16 10:46:41  \n",
       "3  1.436795e+09     3   10909    False   False  2015-07-13 21:38:23  \n",
       "4  1.437444e+09     1  151823    False   False  2015-07-21 10:02:49  "
      ]
     },
     "execution_count": 4,
     "metadata": {},
     "output_type": "execute_result"
    }
   ],
   "source": [
    "t_login_test = pd.read_csv('../datas/t_login_test.csv')\n",
    "t_login_test.head()"
   ]
  },
  {
   "cell_type": "code",
   "execution_count": 5,
   "metadata": {},
   "outputs": [
    {
     "data": {
      "text/html": [
       "<div>\n",
       "<style>\n",
       "    .dataframe thead tr:only-child th {\n",
       "        text-align: right;\n",
       "    }\n",
       "\n",
       "    .dataframe thead th {\n",
       "        text-align: left;\n",
       "    }\n",
       "\n",
       "    .dataframe tbody tr th {\n",
       "        vertical-align: top;\n",
       "    }\n",
       "</style>\n",
       "<table border=\"1\" class=\"dataframe\">\n",
       "  <thead>\n",
       "    <tr style=\"text-align: right;\">\n",
       "      <th></th>\n",
       "      <th>rowkey</th>\n",
       "      <th>time</th>\n",
       "      <th>id</th>\n",
       "    </tr>\n",
       "  </thead>\n",
       "  <tbody>\n",
       "    <tr>\n",
       "      <th>0</th>\n",
       "      <td>24</td>\n",
       "      <td>2015-07-01 00:04:41.0</td>\n",
       "      <td>98066</td>\n",
       "    </tr>\n",
       "    <tr>\n",
       "      <th>1</th>\n",
       "      <td>37</td>\n",
       "      <td>2015-07-01 00:12:45.0</td>\n",
       "      <td>151688</td>\n",
       "    </tr>\n",
       "    <tr>\n",
       "      <th>2</th>\n",
       "      <td>45</td>\n",
       "      <td>2015-07-01 00:15:12.0</td>\n",
       "      <td>86468</td>\n",
       "    </tr>\n",
       "    <tr>\n",
       "      <th>3</th>\n",
       "      <td>46</td>\n",
       "      <td>2015-07-01 00:15:24.0</td>\n",
       "      <td>86468</td>\n",
       "    </tr>\n",
       "    <tr>\n",
       "      <th>4</th>\n",
       "      <td>48</td>\n",
       "      <td>2015-07-01 00:15:58.0</td>\n",
       "      <td>82720</td>\n",
       "    </tr>\n",
       "  </tbody>\n",
       "</table>\n",
       "</div>"
      ],
      "text/plain": [
       "   rowkey                   time      id\n",
       "0      24  2015-07-01 00:04:41.0   98066\n",
       "1      37  2015-07-01 00:12:45.0  151688\n",
       "2      45  2015-07-01 00:15:12.0   86468\n",
       "3      46  2015-07-01 00:15:24.0   86468\n",
       "4      48  2015-07-01 00:15:58.0   82720"
      ]
     },
     "execution_count": 5,
     "metadata": {},
     "output_type": "execute_result"
    }
   ],
   "source": [
    "t_trade_test = pd.read_csv('../datas/t_trade_test.csv')\n",
    "t_trade_test.head()"
   ]
  },
  {
   "cell_type": "code",
   "execution_count": 68,
   "metadata": {},
   "outputs": [
    {
     "data": {
      "text/html": [
       "<div>\n",
       "<style>\n",
       "    .dataframe thead tr:only-child th {\n",
       "        text-align: right;\n",
       "    }\n",
       "\n",
       "    .dataframe thead th {\n",
       "        text-align: left;\n",
       "    }\n",
       "\n",
       "    .dataframe tbody tr th {\n",
       "        vertical-align: top;\n",
       "    }\n",
       "</style>\n",
       "<table border=\"1\" class=\"dataframe\">\n",
       "  <thead>\n",
       "    <tr style=\"text-align: right;\">\n",
       "      <th></th>\n",
       "      <th>rowkey</th>\n",
       "      <th>time</th>\n",
       "      <th>id</th>\n",
       "      <th>is_risk</th>\n",
       "      <th>trade_stamp</th>\n",
       "    </tr>\n",
       "  </thead>\n",
       "  <tbody>\n",
       "    <tr>\n",
       "      <th>0</th>\n",
       "      <td>3</td>\n",
       "      <td>2015-01-01 00:00:41.0</td>\n",
       "      <td>27863</td>\n",
       "      <td>0</td>\n",
       "      <td>1.420042e+09</td>\n",
       "    </tr>\n",
       "    <tr>\n",
       "      <th>1</th>\n",
       "      <td>6</td>\n",
       "      <td>2015-01-01 00:00:46.0</td>\n",
       "      <td>115201</td>\n",
       "      <td>0</td>\n",
       "      <td>1.420042e+09</td>\n",
       "    </tr>\n",
       "    <tr>\n",
       "      <th>2</th>\n",
       "      <td>13</td>\n",
       "      <td>2015-01-01 00:01:02.0</td>\n",
       "      <td>143711</td>\n",
       "      <td>0</td>\n",
       "      <td>1.420042e+09</td>\n",
       "    </tr>\n",
       "    <tr>\n",
       "      <th>3</th>\n",
       "      <td>32</td>\n",
       "      <td>2015-01-01 00:03:00.0</td>\n",
       "      <td>172699</td>\n",
       "      <td>0</td>\n",
       "      <td>1.420042e+09</td>\n",
       "    </tr>\n",
       "    <tr>\n",
       "      <th>4</th>\n",
       "      <td>43</td>\n",
       "      <td>2015-01-01 00:03:52.0</td>\n",
       "      <td>53265</td>\n",
       "      <td>0</td>\n",
       "      <td>1.420042e+09</td>\n",
       "    </tr>\n",
       "  </tbody>\n",
       "</table>\n",
       "</div>"
      ],
      "text/plain": [
       "   rowkey                   time      id  is_risk   trade_stamp\n",
       "0       3  2015-01-01 00:00:41.0   27863        0  1.420042e+09\n",
       "1       6  2015-01-01 00:00:46.0  115201        0  1.420042e+09\n",
       "2      13  2015-01-01 00:01:02.0  143711        0  1.420042e+09\n",
       "3      32  2015-01-01 00:03:00.0  172699        0  1.420042e+09\n",
       "4      43  2015-01-01 00:03:52.0   53265        0  1.420042e+09"
      ]
     },
     "execution_count": 68,
     "metadata": {},
     "output_type": "execute_result"
    }
   ],
   "source": [
    "t_trade['trade_stamp'] = t_trade['time'].map(lambda x:pd.to_datetime(x).value//10**9 - 28800.0)\n",
    "t_trade.head()"
   ]
  },
  {
   "cell_type": "code",
   "execution_count": null,
   "metadata": {
    "collapsed": true
   },
   "outputs": [],
   "source": []
  },
  {
   "cell_type": "code",
   "execution_count": 9,
   "metadata": {},
   "outputs": [
    {
     "name": "stdout",
     "output_type": "stream",
     "text": [
      "6367 905\n"
     ]
    }
   ],
   "source": [
    "testid = t_trade_test.id.unique()\n",
    "loginid = t_login.id.unique()\n",
    "i = j = 0\n",
    "for idi in testid:\n",
    "    if idi in loginid:\n",
    "        i += 1\n",
    "    else:\n",
    "        j += 1\n",
    "print i,j"
   ]
  },
  {
   "cell_type": "code",
   "execution_count": 11,
   "metadata": {},
   "outputs": [
    {
     "name": "stdout",
     "output_type": "stream",
     "text": [
      "25943 101\n",
      "[56501, 24091, 62499, 51878, 146302, 79961, 27695, 19540, 100190, 38679, 152708, 126377, 135112, 145507, 166242, 96097, 39976, 128119, 74875, 158241, 9961, 75370, 118562, 26714, 20326, 39143, 155904, 31571, 79406, 81861, 32214, 80894, 95723, 102829, 147992, 31172, 14853, 84593, 158078, 156488, 166122, 5011, 105592, 110686, 11748, 64597, 52676, 131135, 123940, 112547, 165826, 160189, 50429, 168000, 10296, 84632, 64307, 98838, 36248, 140325, 131378, 136223, 67199, 163478, 122066, 15050, 145665, 62070, 170194, 85983, 14122, 41054, 11510, 27397, 29173, 112627, 130329, 7445, 71024, 102100, 95667, 79940, 88971, 166812, 129535, 69078, 170712, 44393, 175437, 77416, 17393, 123090, 9192, 52994, 53408, 162003, 65825, 164083, 155723, 89740, 124023]\n"
     ]
    }
   ],
   "source": [
    "ids = t_trade.id.unique()\n",
    "loginid = t_login.id.unique()\n",
    "i = j = 0\n",
    "res = []\n",
    "for idi in ids:\n",
    "    if idi in loginid:\n",
    "        i += 1\n",
    "    else:\n",
    "        j += 1\n",
    "        res.append(idi)\n",
    "print i,j\n",
    "print res"
   ]
  },
  {
   "cell_type": "code",
   "execution_count": 18,
   "metadata": {},
   "outputs": [
    {
     "name": "stdout",
     "output_type": "stream",
     "text": [
      "0\n"
     ]
    }
   ],
   "source": [
    "d = t_trade.loc[t_trade.id.isin(res),:]  # 593 个\n",
    "print d.is_risk.sum()"
   ]
  },
  {
   "cell_type": "code",
   "execution_count": 19,
   "metadata": {},
   "outputs": [
    {
     "name": "stderr",
     "output_type": "stream",
     "text": [
      "/anaconda/lib/python2.7/site-packages/ipykernel_launcher.py:1: SettingWithCopyWarning: \n",
      "A value is trying to be set on a copy of a slice from a DataFrame.\n",
      "Try using .loc[row_indexer,col_indexer] = value instead\n",
      "\n",
      "See the caveats in the documentation: http://pandas.pydata.org/pandas-docs/stable/indexing.html#indexing-view-versus-copy\n",
      "  \"\"\"Entry point for launching an IPython kernel.\n"
     ]
    },
    {
     "data": {
      "text/html": [
       "<div>\n",
       "<style>\n",
       "    .dataframe thead tr:only-child th {\n",
       "        text-align: right;\n",
       "    }\n",
       "\n",
       "    .dataframe thead th {\n",
       "        text-align: left;\n",
       "    }\n",
       "\n",
       "    .dataframe tbody tr th {\n",
       "        vertical-align: top;\n",
       "    }\n",
       "</style>\n",
       "<table border=\"1\" class=\"dataframe\">\n",
       "  <thead>\n",
       "    <tr style=\"text-align: right;\">\n",
       "      <th></th>\n",
       "      <th>is_risk</th>\n",
       "    </tr>\n",
       "    <tr>\n",
       "      <th>time</th>\n",
       "      <th></th>\n",
       "    </tr>\n",
       "  </thead>\n",
       "  <tbody>\n",
       "    <tr>\n",
       "      <th>2015-01-01</th>\n",
       "      <td>4</td>\n",
       "    </tr>\n",
       "    <tr>\n",
       "      <th>2015-01-02</th>\n",
       "      <td>4</td>\n",
       "    </tr>\n",
       "    <tr>\n",
       "      <th>2015-01-03</th>\n",
       "      <td>1</td>\n",
       "    </tr>\n",
       "    <tr>\n",
       "      <th>2015-01-04</th>\n",
       "      <td>4</td>\n",
       "    </tr>\n",
       "    <tr>\n",
       "      <th>2015-01-05</th>\n",
       "      <td>3</td>\n",
       "    </tr>\n",
       "  </tbody>\n",
       "</table>\n",
       "</div>"
      ],
      "text/plain": [
       "             is_risk\n",
       "time                \n",
       "2015-01-01         4\n",
       "2015-01-02         4\n",
       "2015-01-03         1\n",
       "2015-01-04         4\n",
       "2015-01-05         3"
      ]
     },
     "execution_count": 19,
     "metadata": {},
     "output_type": "execute_result"
    }
   ],
   "source": [
    "d['time'] = d['time'].map(lambda x:x[:11])\n",
    "dt = d[['time','is_risk']].groupby('time').count()\n",
    "dt.head()"
   ]
  },
  {
   "cell_type": "code",
   "execution_count": 20,
   "metadata": {},
   "outputs": [
    {
     "data": {
      "image/png": "[encoded data removed]",
      "text/plain": [
       "<matplotlib.figure.Figure at 0x1a14069ad0>"
      ]
     },
     "metadata": {},
     "output_type": "display_data"
    }
   ],
   "source": [
    "dt[:50].plot.bar( figsize=(16, 8))\n",
    "plt.show()"
   ]
  },
  {
   "cell_type": "code",
   "execution_count": null,
   "metadata": {
    "collapsed": true
   },
   "outputs": [],
   "source": []
  },
  {
   "cell_type": "code",
   "execution_count": null,
   "metadata": {
    "collapsed": true
   },
   "outputs": [],
   "source": []
  },
  {
   "cell_type": "code",
   "execution_count": null,
   "metadata": {
    "collapsed": true
   },
   "outputs": [],
   "source": []
  },
  {
   "cell_type": "code",
   "execution_count": null,
   "metadata": {
    "collapsed": true
   },
   "outputs": [],
   "source": []
  },
  {
   "cell_type": "code",
   "execution_count": null,
   "metadata": {
    "collapsed": true
   },
   "outputs": [],
   "source": []
  },
  {
   "cell_type": "code",
   "execution_count": null,
   "metadata": {
    "collapsed": true
   },
   "outputs": [],
   "source": []
  },
  {
   "cell_type": "code",
   "execution_count": null,
   "metadata": {
    "collapsed": true
   },
   "outputs": [],
   "source": []
  },
  {
   "cell_type": "code",
   "execution_count": null,
   "metadata": {
    "collapsed": true
   },
   "outputs": [],
   "source": []
  }
 ],
 "metadata": {
  "kernelspec": {
   "display_name": "Python 2",
   "language": "python",
   "name": "python2"
  },
  "language_info": {
   "codemirror_mode": {
    "name": "ipython",
    "version": 2
   },
   "file_extension": ".py",
   "mimetype": "text/x-python",
   "name": "python",
   "nbconvert_exporter": "python",
   "pygments_lexer": "ipython2",
   "version": "2.7.13"
  }
 },
 "nbformat": 4,
 "nbformat_minor": 2
}

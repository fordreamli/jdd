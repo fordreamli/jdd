{
 "cells": [
  {
   "cell_type": "code",
   "execution_count": 1,
   "metadata": {
    "collapsed": true
   },
   "outputs": [],
   "source": [
    "# coding:utf-8\n",
    "\n",
    "import pandas as pd\n",
    "import numpy as np\n",
    "import os,sys\n",
    "from multiprocessing import Pool\n",
    "import matplotlib.pyplot as plt"
   ]
  },
  {
   "cell_type": "code",
   "execution_count": 2,
   "metadata": {},
   "outputs": [
    {
     "data": {
      "text/html": [
       "<div>\n",
       "<style>\n",
       "    .dataframe thead tr:only-child th {\n",
       "        text-align: right;\n",
       "    }\n",
       "\n",
       "    .dataframe thead th {\n",
       "        text-align: left;\n",
       "    }\n",
       "\n",
       "    .dataframe tbody tr th {\n",
       "        vertical-align: top;\n",
       "    }\n",
       "</style>\n",
       "<table border=\"1\" class=\"dataframe\">\n",
       "  <thead>\n",
       "    <tr style=\"text-align: right;\">\n",
       "      <th></th>\n",
       "      <th>log_id</th>\n",
       "      <th>timelong</th>\n",
       "      <th>device</th>\n",
       "      <th>log_from</th>\n",
       "      <th>ip</th>\n",
       "      <th>city</th>\n",
       "      <th>result</th>\n",
       "      <th>timestamp</th>\n",
       "      <th>type</th>\n",
       "      <th>id</th>\n",
       "      <th>is_scan</th>\n",
       "      <th>is_sec</th>\n",
       "      <th>time</th>\n",
       "      <th>timestamp_online</th>\n",
       "    </tr>\n",
       "  </thead>\n",
       "  <tbody>\n",
       "    <tr>\n",
       "      <th>0</th>\n",
       "      <td>2.618369e+15</td>\n",
       "      <td>5.0</td>\n",
       "      <td>879361</td>\n",
       "      <td>10</td>\n",
       "      <td>1026491</td>\n",
       "      <td>194</td>\n",
       "      <td>1</td>\n",
       "      <td>1.428642e+09</td>\n",
       "      <td>1</td>\n",
       "      <td>116825</td>\n",
       "      <td>True</td>\n",
       "      <td>False</td>\n",
       "      <td>2015-04-10 12:54:19</td>\n",
       "      <td>1.428642e+09</td>\n",
       "    </tr>\n",
       "    <tr>\n",
       "      <th>1</th>\n",
       "      <td>9.969739e+14</td>\n",
       "      <td>16124.0</td>\n",
       "      <td>835072</td>\n",
       "      <td>1</td>\n",
       "      <td>1026491</td>\n",
       "      <td>194</td>\n",
       "      <td>1</td>\n",
       "      <td>1.428809e+09</td>\n",
       "      <td>1</td>\n",
       "      <td>109987</td>\n",
       "      <td>False</td>\n",
       "      <td>False</td>\n",
       "      <td>2015-04-12 11:20:45</td>\n",
       "      <td>1.428825e+09</td>\n",
       "    </tr>\n",
       "    <tr>\n",
       "      <th>2</th>\n",
       "      <td>8.123343e+15</td>\n",
       "      <td>5.0</td>\n",
       "      <td>879361</td>\n",
       "      <td>10</td>\n",
       "      <td>1026491</td>\n",
       "      <td>194</td>\n",
       "      <td>1</td>\n",
       "      <td>1.427705e+09</td>\n",
       "      <td>1</td>\n",
       "      <td>116825</td>\n",
       "      <td>True</td>\n",
       "      <td>False</td>\n",
       "      <td>2015-03-30 16:38:20</td>\n",
       "      <td>1.427705e+09</td>\n",
       "    </tr>\n",
       "    <tr>\n",
       "      <th>3</th>\n",
       "      <td>3.265677e+14</td>\n",
       "      <td>6.0</td>\n",
       "      <td>879361</td>\n",
       "      <td>10</td>\n",
       "      <td>1026491</td>\n",
       "      <td>194</td>\n",
       "      <td>1</td>\n",
       "      <td>1.428309e+09</td>\n",
       "      <td>1</td>\n",
       "      <td>116825</td>\n",
       "      <td>True</td>\n",
       "      <td>False</td>\n",
       "      <td>2015-04-06 16:22:18</td>\n",
       "      <td>1.428309e+09</td>\n",
       "    </tr>\n",
       "    <tr>\n",
       "      <th>4</th>\n",
       "      <td>6.684659e+15</td>\n",
       "      <td>4.0</td>\n",
       "      <td>879361</td>\n",
       "      <td>10</td>\n",
       "      <td>1026491</td>\n",
       "      <td>194</td>\n",
       "      <td>1</td>\n",
       "      <td>1.428221e+09</td>\n",
       "      <td>1</td>\n",
       "      <td>116825</td>\n",
       "      <td>True</td>\n",
       "      <td>False</td>\n",
       "      <td>2015-04-05 15:55:01</td>\n",
       "      <td>1.428221e+09</td>\n",
       "    </tr>\n",
       "  </tbody>\n",
       "</table>\n",
       "</div>"
      ],
      "text/plain": [
       "         log_id  timelong  device  log_from       ip  city  result  \\\n",
       "0  2.618369e+15       5.0  879361        10  1026491   194       1   \n",
       "1  9.969739e+14   16124.0  835072         1  1026491   194       1   \n",
       "2  8.123343e+15       5.0  879361        10  1026491   194       1   \n",
       "3  3.265677e+14       6.0  879361        10  1026491   194       1   \n",
       "4  6.684659e+15       4.0  879361        10  1026491   194       1   \n",
       "\n",
       "      timestamp  type      id  is_scan  is_sec                 time  \\\n",
       "0  1.428642e+09     1  116825     True   False  2015-04-10 12:54:19   \n",
       "1  1.428809e+09     1  109987    False   False  2015-04-12 11:20:45   \n",
       "2  1.427705e+09     1  116825     True   False  2015-03-30 16:38:20   \n",
       "3  1.428309e+09     1  116825     True   False  2015-04-06 16:22:18   \n",
       "4  1.428221e+09     1  116825     True   False  2015-04-05 15:55:01   \n",
       "\n",
       "   timestamp_online  \n",
       "0      1.428642e+09  \n",
       "1      1.428825e+09  \n",
       "2      1.427705e+09  \n",
       "3      1.428309e+09  \n",
       "4      1.428221e+09  "
      ]
     },
     "execution_count": 2,
     "metadata": {},
     "output_type": "execute_result"
    }
   ],
   "source": [
    "t_login = pd.read_csv('../datas/t_login.csv')\n",
    "t_login['time'] = t_login['time'].astype(pd.Timestamp)\n",
    "t_login['timestamp_online'] = t_login['timestamp'] + t_login['timelong']\n",
    "t_login['result'] = t_login['result'].map(lambda x: x == 1 and 1 or -1)\n",
    "t_login.head()"
   ]
  },
  {
   "cell_type": "code",
   "execution_count": 42,
   "metadata": {
    "collapsed": true
   },
   "outputs": [],
   "source": [
    "dt = t_login[t_login['time']>='2015-03-01 00:00:00']\n",
    "dt = dt.sort_values('timestamp') \\\n",
    "                .reset_index(drop=True)"
   ]
  },
  {
   "cell_type": "code",
   "execution_count": 43,
   "metadata": {},
   "outputs": [
    {
     "data": {
      "text/html": [
       "<div>\n",
       "<style>\n",
       "    .dataframe thead tr:only-child th {\n",
       "        text-align: right;\n",
       "    }\n",
       "\n",
       "    .dataframe thead th {\n",
       "        text-align: left;\n",
       "    }\n",
       "\n",
       "    .dataframe tbody tr th {\n",
       "        vertical-align: top;\n",
       "    }\n",
       "</style>\n",
       "<table border=\"1\" class=\"dataframe\">\n",
       "  <thead>\n",
       "    <tr style=\"text-align: right;\">\n",
       "      <th></th>\n",
       "      <th>log_id</th>\n",
       "      <th>timelong</th>\n",
       "      <th>device</th>\n",
       "      <th>log_from</th>\n",
       "      <th>ip</th>\n",
       "      <th>city</th>\n",
       "      <th>result</th>\n",
       "      <th>timestamp</th>\n",
       "      <th>type</th>\n",
       "      <th>id</th>\n",
       "      <th>is_scan</th>\n",
       "      <th>is_sec</th>\n",
       "      <th>time</th>\n",
       "      <th>timestamp_online</th>\n",
       "      <th>ym</th>\n",
       "    </tr>\n",
       "  </thead>\n",
       "  <tbody>\n",
       "    <tr>\n",
       "      <th>0</th>\n",
       "      <td>1.894101e+15</td>\n",
       "      <td>20997.0</td>\n",
       "      <td>1022011</td>\n",
       "      <td>1</td>\n",
       "      <td>1099238</td>\n",
       "      <td>44</td>\n",
       "      <td>-1</td>\n",
       "      <td>1.425139e+09</td>\n",
       "      <td>3</td>\n",
       "      <td>82149</td>\n",
       "      <td>False</td>\n",
       "      <td>False</td>\n",
       "      <td>2015-03-01 00:00:02</td>\n",
       "      <td>1.425160e+09</td>\n",
       "      <td>2015-03-</td>\n",
       "    </tr>\n",
       "    <tr>\n",
       "      <th>1</th>\n",
       "      <td>5.827410e+15</td>\n",
       "      <td>2000.0</td>\n",
       "      <td>835072</td>\n",
       "      <td>2</td>\n",
       "      <td>739582</td>\n",
       "      <td>63</td>\n",
       "      <td>-1</td>\n",
       "      <td>1.425139e+09</td>\n",
       "      <td>3</td>\n",
       "      <td>23704</td>\n",
       "      <td>False</td>\n",
       "      <td>False</td>\n",
       "      <td>2015-03-01 00:00:37</td>\n",
       "      <td>1.425141e+09</td>\n",
       "      <td>2015-03-</td>\n",
       "    </tr>\n",
       "    <tr>\n",
       "      <th>2</th>\n",
       "      <td>8.887874e+15</td>\n",
       "      <td>2758.0</td>\n",
       "      <td>837324</td>\n",
       "      <td>1</td>\n",
       "      <td>574034</td>\n",
       "      <td>488</td>\n",
       "      <td>1</td>\n",
       "      <td>1.425139e+09</td>\n",
       "      <td>3</td>\n",
       "      <td>173093</td>\n",
       "      <td>False</td>\n",
       "      <td>False</td>\n",
       "      <td>2015-03-01 00:01:15</td>\n",
       "      <td>1.425142e+09</td>\n",
       "      <td>2015-03-</td>\n",
       "    </tr>\n",
       "    <tr>\n",
       "      <th>3</th>\n",
       "      <td>7.380721e+15</td>\n",
       "      <td>8000.0</td>\n",
       "      <td>367944</td>\n",
       "      <td>2</td>\n",
       "      <td>470679</td>\n",
       "      <td>194</td>\n",
       "      <td>-1</td>\n",
       "      <td>1.425139e+09</td>\n",
       "      <td>3</td>\n",
       "      <td>128098</td>\n",
       "      <td>False</td>\n",
       "      <td>False</td>\n",
       "      <td>2015-03-01 00:01:35</td>\n",
       "      <td>1.425147e+09</td>\n",
       "      <td>2015-03-</td>\n",
       "    </tr>\n",
       "    <tr>\n",
       "      <th>4</th>\n",
       "      <td>1.364725e+16</td>\n",
       "      <td>8000.0</td>\n",
       "      <td>367944</td>\n",
       "      <td>2</td>\n",
       "      <td>470679</td>\n",
       "      <td>194</td>\n",
       "      <td>-1</td>\n",
       "      <td>1.425139e+09</td>\n",
       "      <td>3</td>\n",
       "      <td>128098</td>\n",
       "      <td>False</td>\n",
       "      <td>False</td>\n",
       "      <td>2015-03-01 00:01:43</td>\n",
       "      <td>1.425147e+09</td>\n",
       "      <td>2015-03-</td>\n",
       "    </tr>\n",
       "  </tbody>\n",
       "</table>\n",
       "</div>"
      ],
      "text/plain": [
       "         log_id  timelong   device  log_from       ip  city  result  \\\n",
       "0  1.894101e+15   20997.0  1022011         1  1099238    44      -1   \n",
       "1  5.827410e+15    2000.0   835072         2   739582    63      -1   \n",
       "2  8.887874e+15    2758.0   837324         1   574034   488       1   \n",
       "3  7.380721e+15    8000.0   367944         2   470679   194      -1   \n",
       "4  1.364725e+16    8000.0   367944         2   470679   194      -1   \n",
       "\n",
       "      timestamp  type      id  is_scan  is_sec                 time  \\\n",
       "0  1.425139e+09     3   82149    False   False  2015-03-01 00:00:02   \n",
       "1  1.425139e+09     3   23704    False   False  2015-03-01 00:00:37   \n",
       "2  1.425139e+09     3  173093    False   False  2015-03-01 00:01:15   \n",
       "3  1.425139e+09     3  128098    False   False  2015-03-01 00:01:35   \n",
       "4  1.425139e+09     3  128098    False   False  2015-03-01 00:01:43   \n",
       "\n",
       "   timestamp_online        ym  \n",
       "0      1.425160e+09  2015-03-  \n",
       "1      1.425141e+09  2015-03-  \n",
       "2      1.425142e+09  2015-03-  \n",
       "3      1.425147e+09  2015-03-  \n",
       "4      1.425147e+09  2015-03-  "
      ]
     },
     "execution_count": 43,
     "metadata": {},
     "output_type": "execute_result"
    }
   ],
   "source": [
    "dt.head()"
   ]
  },
  {
   "cell_type": "code",
   "execution_count": 44,
   "metadata": {},
   "outputs": [
    {
     "data": {
      "text/html": [
       "<div>\n",
       "<style>\n",
       "    .dataframe thead tr:only-child th {\n",
       "        text-align: right;\n",
       "    }\n",
       "\n",
       "    .dataframe thead th {\n",
       "        text-align: left;\n",
       "    }\n",
       "\n",
       "    .dataframe tbody tr th {\n",
       "        vertical-align: top;\n",
       "    }\n",
       "</style>\n",
       "<table border=\"1\" class=\"dataframe\">\n",
       "  <thead>\n",
       "    <tr style=\"text-align: right;\">\n",
       "      <th></th>\n",
       "      <th>log_id</th>\n",
       "      <th>timelong</th>\n",
       "      <th>device</th>\n",
       "      <th>log_from</th>\n",
       "      <th>ip</th>\n",
       "      <th>city</th>\n",
       "      <th>result</th>\n",
       "      <th>timestamp</th>\n",
       "      <th>type</th>\n",
       "      <th>id</th>\n",
       "      <th>is_scan</th>\n",
       "      <th>is_sec</th>\n",
       "      <th>time</th>\n",
       "      <th>timestamp_online</th>\n",
       "      <th>ym</th>\n",
       "    </tr>\n",
       "  </thead>\n",
       "  <tbody>\n",
       "    <tr>\n",
       "      <th>101421</th>\n",
       "      <td>1.442511e+16</td>\n",
       "      <td>13130.0</td>\n",
       "      <td>812921</td>\n",
       "      <td>1</td>\n",
       "      <td>385900</td>\n",
       "      <td>217</td>\n",
       "      <td>-1</td>\n",
       "      <td>1.427818e+09</td>\n",
       "      <td>2</td>\n",
       "      <td>111553</td>\n",
       "      <td>False</td>\n",
       "      <td>False</td>\n",
       "      <td>2015-04-01 00:00:04</td>\n",
       "      <td>1.427831e+09</td>\n",
       "      <td>2015-04-</td>\n",
       "    </tr>\n",
       "    <tr>\n",
       "      <th>101422</th>\n",
       "      <td>4.721558e+14</td>\n",
       "      <td>24690.0</td>\n",
       "      <td>812921</td>\n",
       "      <td>1</td>\n",
       "      <td>385900</td>\n",
       "      <td>217</td>\n",
       "      <td>1</td>\n",
       "      <td>1.427818e+09</td>\n",
       "      <td>2</td>\n",
       "      <td>111553</td>\n",
       "      <td>False</td>\n",
       "      <td>False</td>\n",
       "      <td>2015-04-01 00:00:16</td>\n",
       "      <td>1.427842e+09</td>\n",
       "      <td>2015-04-</td>\n",
       "    </tr>\n",
       "    <tr>\n",
       "      <th>101423</th>\n",
       "      <td>1.939157e+15</td>\n",
       "      <td>1790.0</td>\n",
       "      <td>412258</td>\n",
       "      <td>1</td>\n",
       "      <td>194231</td>\n",
       "      <td>211</td>\n",
       "      <td>1</td>\n",
       "      <td>1.427818e+09</td>\n",
       "      <td>3</td>\n",
       "      <td>1195</td>\n",
       "      <td>False</td>\n",
       "      <td>False</td>\n",
       "      <td>2015-04-01 00:00:29</td>\n",
       "      <td>1.427819e+09</td>\n",
       "      <td>2015-04-</td>\n",
       "    </tr>\n",
       "    <tr>\n",
       "      <th>101424</th>\n",
       "      <td>2.886586e+16</td>\n",
       "      <td>7000.0</td>\n",
       "      <td>456923</td>\n",
       "      <td>2</td>\n",
       "      <td>1553851</td>\n",
       "      <td>243</td>\n",
       "      <td>1</td>\n",
       "      <td>1.427818e+09</td>\n",
       "      <td>3</td>\n",
       "      <td>121210</td>\n",
       "      <td>False</td>\n",
       "      <td>False</td>\n",
       "      <td>2015-04-01 00:00:33</td>\n",
       "      <td>1.427825e+09</td>\n",
       "      <td>2015-04-</td>\n",
       "    </tr>\n",
       "    <tr>\n",
       "      <th>101425</th>\n",
       "      <td>4.951091e+15</td>\n",
       "      <td>652.0</td>\n",
       "      <td>835072</td>\n",
       "      <td>1</td>\n",
       "      <td>359080</td>\n",
       "      <td>194</td>\n",
       "      <td>-1</td>\n",
       "      <td>1.427818e+09</td>\n",
       "      <td>1</td>\n",
       "      <td>74386</td>\n",
       "      <td>False</td>\n",
       "      <td>False</td>\n",
       "      <td>2015-04-01 00:00:49</td>\n",
       "      <td>1.427818e+09</td>\n",
       "      <td>2015-04-</td>\n",
       "    </tr>\n",
       "  </tbody>\n",
       "</table>\n",
       "</div>"
      ],
      "text/plain": [
       "              log_id  timelong  device  log_from       ip  city  result  \\\n",
       "101421  1.442511e+16   13130.0  812921         1   385900   217      -1   \n",
       "101422  4.721558e+14   24690.0  812921         1   385900   217       1   \n",
       "101423  1.939157e+15    1790.0  412258         1   194231   211       1   \n",
       "101424  2.886586e+16    7000.0  456923         2  1553851   243       1   \n",
       "101425  4.951091e+15     652.0  835072         1   359080   194      -1   \n",
       "\n",
       "           timestamp  type      id  is_scan  is_sec                 time  \\\n",
       "101421  1.427818e+09     2  111553    False   False  2015-04-01 00:00:04   \n",
       "101422  1.427818e+09     2  111553    False   False  2015-04-01 00:00:16   \n",
       "101423  1.427818e+09     3    1195    False   False  2015-04-01 00:00:29   \n",
       "101424  1.427818e+09     3  121210    False   False  2015-04-01 00:00:33   \n",
       "101425  1.427818e+09     1   74386    False   False  2015-04-01 00:00:49   \n",
       "\n",
       "        timestamp_online        ym  \n",
       "101421      1.427831e+09  2015-04-  \n",
       "101422      1.427842e+09  2015-04-  \n",
       "101423      1.427819e+09  2015-04-  \n",
       "101424      1.427825e+09  2015-04-  \n",
       "101425      1.427818e+09  2015-04-  "
      ]
     },
     "execution_count": 44,
     "metadata": {},
     "output_type": "execute_result"
    }
   ],
   "source": [
    "dtt = dt[dt['time']>='2015-04-01 00:00:00']\n",
    "dtt.head()"
   ]
  },
  {
   "cell_type": "code",
   "execution_count": 46,
   "metadata": {},
   "outputs": [],
   "source": [
    "#dtt.index.tolist()"
   ]
  },
  {
   "cell_type": "code",
   "execution_count": null,
   "metadata": {
    "collapsed": true
   },
   "outputs": [],
   "source": []
  },
  {
   "cell_type": "code",
   "execution_count": 35,
   "metadata": {},
   "outputs": [
    {
     "data": {
      "text/html": [
       "<div>\n",
       "<style>\n",
       "    .dataframe thead tr:only-child th {\n",
       "        text-align: right;\n",
       "    }\n",
       "\n",
       "    .dataframe thead th {\n",
       "        text-align: left;\n",
       "    }\n",
       "\n",
       "    .dataframe tbody tr th {\n",
       "        vertical-align: top;\n",
       "    }\n",
       "</style>\n",
       "<table border=\"1\" class=\"dataframe\">\n",
       "  <thead>\n",
       "    <tr style=\"text-align: right;\">\n",
       "      <th></th>\n",
       "      <th>log_id</th>\n",
       "      <th>timelong</th>\n",
       "      <th>device</th>\n",
       "      <th>log_from</th>\n",
       "      <th>ip</th>\n",
       "      <th>city</th>\n",
       "      <th>result</th>\n",
       "      <th>timestamp</th>\n",
       "      <th>type</th>\n",
       "      <th>id</th>\n",
       "      <th>is_scan</th>\n",
       "      <th>is_sec</th>\n",
       "      <th>time</th>\n",
       "      <th>timestamp_online</th>\n",
       "      <th>ym</th>\n",
       "    </tr>\n",
       "  </thead>\n",
       "  <tbody>\n",
       "    <tr>\n",
       "      <th>0</th>\n",
       "      <td>2.618369e+15</td>\n",
       "      <td>5.0</td>\n",
       "      <td>879361</td>\n",
       "      <td>10</td>\n",
       "      <td>1026491</td>\n",
       "      <td>194</td>\n",
       "      <td>1</td>\n",
       "      <td>1.428642e+09</td>\n",
       "      <td>1</td>\n",
       "      <td>116825</td>\n",
       "      <td>True</td>\n",
       "      <td>False</td>\n",
       "      <td>2015-04-10 12:54:19</td>\n",
       "      <td>1.428642e+09</td>\n",
       "      <td>2015-04-</td>\n",
       "    </tr>\n",
       "    <tr>\n",
       "      <th>1</th>\n",
       "      <td>9.969739e+14</td>\n",
       "      <td>16124.0</td>\n",
       "      <td>835072</td>\n",
       "      <td>1</td>\n",
       "      <td>1026491</td>\n",
       "      <td>194</td>\n",
       "      <td>1</td>\n",
       "      <td>1.428809e+09</td>\n",
       "      <td>1</td>\n",
       "      <td>109987</td>\n",
       "      <td>False</td>\n",
       "      <td>False</td>\n",
       "      <td>2015-04-12 11:20:45</td>\n",
       "      <td>1.428825e+09</td>\n",
       "      <td>2015-04-</td>\n",
       "    </tr>\n",
       "    <tr>\n",
       "      <th>2</th>\n",
       "      <td>8.123343e+15</td>\n",
       "      <td>5.0</td>\n",
       "      <td>879361</td>\n",
       "      <td>10</td>\n",
       "      <td>1026491</td>\n",
       "      <td>194</td>\n",
       "      <td>1</td>\n",
       "      <td>1.427705e+09</td>\n",
       "      <td>1</td>\n",
       "      <td>116825</td>\n",
       "      <td>True</td>\n",
       "      <td>False</td>\n",
       "      <td>2015-03-30 16:38:20</td>\n",
       "      <td>1.427705e+09</td>\n",
       "      <td>2015-03-</td>\n",
       "    </tr>\n",
       "    <tr>\n",
       "      <th>3</th>\n",
       "      <td>3.265677e+14</td>\n",
       "      <td>6.0</td>\n",
       "      <td>879361</td>\n",
       "      <td>10</td>\n",
       "      <td>1026491</td>\n",
       "      <td>194</td>\n",
       "      <td>1</td>\n",
       "      <td>1.428309e+09</td>\n",
       "      <td>1</td>\n",
       "      <td>116825</td>\n",
       "      <td>True</td>\n",
       "      <td>False</td>\n",
       "      <td>2015-04-06 16:22:18</td>\n",
       "      <td>1.428309e+09</td>\n",
       "      <td>2015-04-</td>\n",
       "    </tr>\n",
       "    <tr>\n",
       "      <th>4</th>\n",
       "      <td>6.684659e+15</td>\n",
       "      <td>4.0</td>\n",
       "      <td>879361</td>\n",
       "      <td>10</td>\n",
       "      <td>1026491</td>\n",
       "      <td>194</td>\n",
       "      <td>1</td>\n",
       "      <td>1.428221e+09</td>\n",
       "      <td>1</td>\n",
       "      <td>116825</td>\n",
       "      <td>True</td>\n",
       "      <td>False</td>\n",
       "      <td>2015-04-05 15:55:01</td>\n",
       "      <td>1.428221e+09</td>\n",
       "      <td>2015-04-</td>\n",
       "    </tr>\n",
       "  </tbody>\n",
       "</table>\n",
       "</div>"
      ],
      "text/plain": [
       "         log_id  timelong  device  log_from       ip  city  result  \\\n",
       "0  2.618369e+15       5.0  879361        10  1026491   194       1   \n",
       "1  9.969739e+14   16124.0  835072         1  1026491   194       1   \n",
       "2  8.123343e+15       5.0  879361        10  1026491   194       1   \n",
       "3  3.265677e+14       6.0  879361        10  1026491   194       1   \n",
       "4  6.684659e+15       4.0  879361        10  1026491   194       1   \n",
       "\n",
       "      timestamp  type      id  is_scan  is_sec                 time  \\\n",
       "0  1.428642e+09     1  116825     True   False  2015-04-10 12:54:19   \n",
       "1  1.428809e+09     1  109987    False   False  2015-04-12 11:20:45   \n",
       "2  1.427705e+09     1  116825     True   False  2015-03-30 16:38:20   \n",
       "3  1.428309e+09     1  116825     True   False  2015-04-06 16:22:18   \n",
       "4  1.428221e+09     1  116825     True   False  2015-04-05 15:55:01   \n",
       "\n",
       "   timestamp_online        ym  \n",
       "0      1.428642e+09  2015-04-  \n",
       "1      1.428825e+09  2015-04-  \n",
       "2      1.427705e+09  2015-03-  \n",
       "3      1.428309e+09  2015-04-  \n",
       "4      1.428221e+09  2015-04-  "
      ]
     },
     "execution_count": 35,
     "metadata": {},
     "output_type": "execute_result"
    }
   ],
   "source": [
    "t_login['ym'] = t_login['time'].map(lambda x:x[:8])\n",
    "t_login.head()"
   ]
  },
  {
   "cell_type": "code",
   "execution_count": 36,
   "metadata": {},
   "outputs": [
    {
     "data": {
      "text/html": [
       "<div>\n",
       "<style>\n",
       "    .dataframe thead tr:only-child th {\n",
       "        text-align: right;\n",
       "    }\n",
       "\n",
       "    .dataframe thead th {\n",
       "        text-align: left;\n",
       "    }\n",
       "\n",
       "    .dataframe tbody tr th {\n",
       "        vertical-align: top;\n",
       "    }\n",
       "</style>\n",
       "<table border=\"1\" class=\"dataframe\">\n",
       "  <thead>\n",
       "    <tr style=\"text-align: right;\">\n",
       "      <th></th>\n",
       "      <th>type</th>\n",
       "    </tr>\n",
       "    <tr>\n",
       "      <th>ym</th>\n",
       "      <th></th>\n",
       "    </tr>\n",
       "  </thead>\n",
       "  <tbody>\n",
       "    <tr>\n",
       "      <th>2015-01-</th>\n",
       "      <td>80597</td>\n",
       "    </tr>\n",
       "    <tr>\n",
       "      <th>2015-02-</th>\n",
       "      <td>81643</td>\n",
       "    </tr>\n",
       "    <tr>\n",
       "      <th>2015-03-</th>\n",
       "      <td>101421</td>\n",
       "    </tr>\n",
       "    <tr>\n",
       "      <th>2015-04-</th>\n",
       "      <td>110185</td>\n",
       "    </tr>\n",
       "    <tr>\n",
       "      <th>2015-05-</th>\n",
       "      <td>96687</td>\n",
       "    </tr>\n",
       "  </tbody>\n",
       "</table>\n",
       "</div>"
      ],
      "text/plain": [
       "            type\n",
       "ym              \n",
       "2015-01-   80597\n",
       "2015-02-   81643\n",
       "2015-03-  101421\n",
       "2015-04-  110185\n",
       "2015-05-   96687"
      ]
     },
     "execution_count": 36,
     "metadata": {},
     "output_type": "execute_result"
    }
   ],
   "source": [
    "type_ym = t_login[['ym','type']].groupby(['ym']).count()\n",
    "type_ym.head()"
   ]
  },
  {
   "cell_type": "code",
   "execution_count": 39,
   "metadata": {},
   "outputs": [
    {
     "data": {
      "image/png": "[encoded data removed]",
      "text/plain": [
       "<matplotlib.figure.Figure at 0x1110ab310>"
      ]
     },
     "metadata": {},
     "output_type": "display_data"
    }
   ],
   "source": [
    "type_ym.plot.bar( figsize=(16, 4))\n",
    "plt.show()"
   ]
  },
  {
   "cell_type": "code",
   "execution_count": null,
   "metadata": {
    "collapsed": true
   },
   "outputs": [],
   "source": []
  },
  {
   "cell_type": "code",
   "execution_count": null,
   "metadata": {
    "collapsed": true
   },
   "outputs": [],
   "source": []
  },
  {
   "cell_type": "code",
   "execution_count": null,
   "metadata": {
    "collapsed": true
   },
   "outputs": [],
   "source": []
  },
  {
   "cell_type": "code",
   "execution_count": 34,
   "metadata": {},
   "outputs": [
    {
     "data": {
      "text/plain": [
       "(595645, 14)"
      ]
     },
     "execution_count": 34,
     "metadata": {},
     "output_type": "execute_result"
    }
   ],
   "source": [
    "t_login.shape"
   ]
  },
  {
   "cell_type": "code",
   "execution_count": 3,
   "metadata": {
    "collapsed": true
   },
   "outputs": [],
   "source": [
    "d0 = t_login.head()"
   ]
  },
  {
   "cell_type": "code",
   "execution_count": 28,
   "metadata": {},
   "outputs": [
    {
     "data": {
      "text/plain": [
       "array([1026491, 1026491, 1026491, 1026491, 1026491])"
      ]
     },
     "execution_count": 28,
     "metadata": {},
     "output_type": "execute_result"
    }
   ],
   "source": [
    "d0['ip'].values"
   ]
  },
  {
   "cell_type": "code",
   "execution_count": 30,
   "metadata": {},
   "outputs": [],
   "source": [
    "k = d0['ip'].map(lambda x: x in d0['ip'].unique())"
   ]
  },
  {
   "cell_type": "code",
   "execution_count": 32,
   "metadata": {},
   "outputs": [
    {
     "data": {
      "text/plain": [
       "0     True\n",
       "1    False\n",
       "2     True\n",
       "3     True\n",
       "4     True\n",
       "Name: ip, dtype: bool"
      ]
     },
     "execution_count": 32,
     "metadata": {},
     "output_type": "execute_result"
    }
   ],
   "source": [
    "k[1] = False\n",
    "k"
   ]
  },
  {
   "cell_type": "code",
   "execution_count": 33,
   "metadata": {},
   "outputs": [
    {
     "data": {
      "text/html": [
       "<div>\n",
       "<style>\n",
       "    .dataframe thead tr:only-child th {\n",
       "        text-align: right;\n",
       "    }\n",
       "\n",
       "    .dataframe thead th {\n",
       "        text-align: left;\n",
       "    }\n",
       "\n",
       "    .dataframe tbody tr th {\n",
       "        vertical-align: top;\n",
       "    }\n",
       "</style>\n",
       "<table border=\"1\" class=\"dataframe\">\n",
       "  <thead>\n",
       "    <tr style=\"text-align: right;\">\n",
       "      <th></th>\n",
       "      <th>log_id</th>\n",
       "      <th>timelong</th>\n",
       "      <th>device</th>\n",
       "      <th>log_from</th>\n",
       "      <th>ip</th>\n",
       "      <th>city</th>\n",
       "      <th>result</th>\n",
       "      <th>timestamp</th>\n",
       "      <th>type</th>\n",
       "      <th>id</th>\n",
       "      <th>is_scan</th>\n",
       "      <th>is_sec</th>\n",
       "      <th>time</th>\n",
       "      <th>timestamp_online</th>\n",
       "    </tr>\n",
       "  </thead>\n",
       "  <tbody>\n",
       "    <tr>\n",
       "      <th>0</th>\n",
       "      <td>2.618369e+15</td>\n",
       "      <td>5.0</td>\n",
       "      <td>879361</td>\n",
       "      <td>10</td>\n",
       "      <td>1026491</td>\n",
       "      <td>194</td>\n",
       "      <td>1</td>\n",
       "      <td>1.428642e+09</td>\n",
       "      <td>1</td>\n",
       "      <td>116825</td>\n",
       "      <td>True</td>\n",
       "      <td>False</td>\n",
       "      <td>2015-04-10 12:54:19</td>\n",
       "      <td>1.428642e+09</td>\n",
       "    </tr>\n",
       "    <tr>\n",
       "      <th>2</th>\n",
       "      <td>8.123343e+15</td>\n",
       "      <td>5.0</td>\n",
       "      <td>879361</td>\n",
       "      <td>10</td>\n",
       "      <td>1026491</td>\n",
       "      <td>194</td>\n",
       "      <td>1</td>\n",
       "      <td>1.427705e+09</td>\n",
       "      <td>1</td>\n",
       "      <td>116825</td>\n",
       "      <td>True</td>\n",
       "      <td>False</td>\n",
       "      <td>2015-03-30 16:38:20</td>\n",
       "      <td>1.427705e+09</td>\n",
       "    </tr>\n",
       "    <tr>\n",
       "      <th>3</th>\n",
       "      <td>3.265677e+14</td>\n",
       "      <td>6.0</td>\n",
       "      <td>879361</td>\n",
       "      <td>10</td>\n",
       "      <td>1026491</td>\n",
       "      <td>194</td>\n",
       "      <td>1</td>\n",
       "      <td>1.428309e+09</td>\n",
       "      <td>1</td>\n",
       "      <td>116825</td>\n",
       "      <td>True</td>\n",
       "      <td>False</td>\n",
       "      <td>2015-04-06 16:22:18</td>\n",
       "      <td>1.428309e+09</td>\n",
       "    </tr>\n",
       "    <tr>\n",
       "      <th>4</th>\n",
       "      <td>6.684659e+15</td>\n",
       "      <td>4.0</td>\n",
       "      <td>879361</td>\n",
       "      <td>10</td>\n",
       "      <td>1026491</td>\n",
       "      <td>194</td>\n",
       "      <td>1</td>\n",
       "      <td>1.428221e+09</td>\n",
       "      <td>1</td>\n",
       "      <td>116825</td>\n",
       "      <td>True</td>\n",
       "      <td>False</td>\n",
       "      <td>2015-04-05 15:55:01</td>\n",
       "      <td>1.428221e+09</td>\n",
       "    </tr>\n",
       "  </tbody>\n",
       "</table>\n",
       "</div>"
      ],
      "text/plain": [
       "         log_id  timelong  device  log_from       ip  city  result  \\\n",
       "0  2.618369e+15       5.0  879361        10  1026491   194       1   \n",
       "2  8.123343e+15       5.0  879361        10  1026491   194       1   \n",
       "3  3.265677e+14       6.0  879361        10  1026491   194       1   \n",
       "4  6.684659e+15       4.0  879361        10  1026491   194       1   \n",
       "\n",
       "      timestamp  type      id  is_scan  is_sec                 time  \\\n",
       "0  1.428642e+09     1  116825     True   False  2015-04-10 12:54:19   \n",
       "2  1.427705e+09     1  116825     True   False  2015-03-30 16:38:20   \n",
       "3  1.428309e+09     1  116825     True   False  2015-04-06 16:22:18   \n",
       "4  1.428221e+09     1  116825     True   False  2015-04-05 15:55:01   \n",
       "\n",
       "   timestamp_online  \n",
       "0      1.428642e+09  \n",
       "2      1.427705e+09  \n",
       "3      1.428309e+09  \n",
       "4      1.428221e+09  "
      ]
     },
     "execution_count": 33,
     "metadata": {},
     "output_type": "execute_result"
    }
   ],
   "source": [
    "d0[k]"
   ]
  },
  {
   "cell_type": "code",
   "execution_count": 13,
   "metadata": {},
   "outputs": [
    {
     "data": {
      "text/html": [
       "<div>\n",
       "<style>\n",
       "    .dataframe thead tr:only-child th {\n",
       "        text-align: right;\n",
       "    }\n",
       "\n",
       "    .dataframe thead th {\n",
       "        text-align: left;\n",
       "    }\n",
       "\n",
       "    .dataframe tbody tr th {\n",
       "        vertical-align: top;\n",
       "    }\n",
       "</style>\n",
       "<table border=\"1\" class=\"dataframe\">\n",
       "  <thead>\n",
       "    <tr style=\"text-align: right;\">\n",
       "      <th></th>\n",
       "      <th>ip</th>\n",
       "      <th>ip_cnt</th>\n",
       "    </tr>\n",
       "  </thead>\n",
       "  <tbody>\n",
       "    <tr>\n",
       "      <th>0</th>\n",
       "      <td>1026491</td>\n",
       "      <td>2</td>\n",
       "    </tr>\n",
       "  </tbody>\n",
       "</table>\n",
       "</div>"
      ],
      "text/plain": [
       "        ip  ip_cnt\n",
       "0  1026491       2"
      ]
     },
     "execution_count": 13,
     "metadata": {},
     "output_type": "execute_result"
    }
   ],
   "source": [
    "dt = d0[['ip','id','type']].groupby(['ip','id'],as_index=False).count()\n",
    "dt[['ip','type']].groupby('ip',as_index=False)['type'].agg({'ip_cnt':np.size})"
   ]
  },
  {
   "cell_type": "code",
   "execution_count": 15,
   "metadata": {},
   "outputs": [
    {
     "data": {
      "text/plain": [
       "{1026491: 2}"
      ]
     },
     "execution_count": 15,
     "metadata": {},
     "output_type": "execute_result"
    }
   ],
   "source": [
    "dict(dt[['ip','type']].groupby('ip',as_index=False)['type'].agg({'ip_cnt':np.size}).values)"
   ]
  },
  {
   "cell_type": "code",
   "execution_count": 16,
   "metadata": {},
   "outputs": [
    {
     "data": {
      "text/plain": [
       "array([[1026491,       2]])"
      ]
     },
     "execution_count": 16,
     "metadata": {},
     "output_type": "execute_result"
    }
   ],
   "source": [
    "dt[['ip','type']].groupby('ip',as_index=False)['type'].agg({'ip_cnt':np.size}).values"
   ]
  },
  {
   "cell_type": "code",
   "execution_count": 19,
   "metadata": {},
   "outputs": [
    {
     "data": {
      "text/plain": [
       "array([[  1.16825000e+05,   1.42864166e+09],\n",
       "       [  1.09987000e+05,   1.42880884e+09],\n",
       "       [  1.16825000e+05,   1.42770470e+09],\n",
       "       [  1.16825000e+05,   1.42830854e+09],\n",
       "       [  1.16825000e+05,   1.42822050e+09]])"
      ]
     },
     "execution_count": 19,
     "metadata": {},
     "output_type": "execute_result"
    }
   ],
   "source": [
    "d0[['id','timestamp']].values"
   ]
  },
  {
   "cell_type": "code",
   "execution_count": 21,
   "metadata": {},
   "outputs": [
    {
     "data": {
      "text/plain": [
       "{109987.0: 1428808845.0, 116825.0: 1428220501.0}"
      ]
     },
     "execution_count": 21,
     "metadata": {},
     "output_type": "execute_result"
    }
   ],
   "source": [
    "dict(d0[['id','timestamp']].values)"
   ]
  },
  {
   "cell_type": "code",
   "execution_count": null,
   "metadata": {
    "collapsed": true
   },
   "outputs": [],
   "source": []
  },
  {
   "cell_type": "code",
   "execution_count": null,
   "metadata": {
    "collapsed": true
   },
   "outputs": [],
   "source": []
  },
  {
   "cell_type": "code",
   "execution_count": null,
   "metadata": {
    "collapsed": true
   },
   "outputs": [],
   "source": []
  }
 ],
 "metadata": {
  "kernelspec": {
   "display_name": "Python 2",
   "language": "python",
   "name": "python2"
  },
  "language_info": {
   "codemirror_mode": {
    "name": "ipython",
    "version": 2
   },
   "file_extension": ".py",
   "mimetype": "text/x-python",
   "name": "python",
   "nbconvert_exporter": "python",
   "pygments_lexer": "ipython2",
   "version": "2.7.13"
  }
 },
 "nbformat": 4,
 "nbformat_minor": 2
}
